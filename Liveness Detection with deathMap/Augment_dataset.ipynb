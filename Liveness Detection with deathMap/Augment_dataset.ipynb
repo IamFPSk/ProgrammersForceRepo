{
 "cells": [
  {
   "cell_type": "code",
   "execution_count": 2,
   "metadata": {},
   "outputs": [
    {
     "name": "stdout",
     "output_type": "stream",
     "text": [
      "Augmentation complete.\n"
     ]
    }
   ],
   "source": [
    "from keras.preprocessing.image import ImageDataGenerator\n",
    "import cv2\n",
    "import os\n",
    "import numpy as np\n",
    "import scipy\n",
    "\n",
    "# Path to the parent folder containing your dataset\n",
    "dataset_folder = '/Users/muhammadalimiran/Desktop/Livenesss Detection/real_img-dataset'\n",
    "\n",
    "# Output directory to save augmented images\n",
    "output_dir = '/Users/muhammadalimiran/Desktop/Livenesss Detection/real_augmented'\n",
    "os.makedirs(output_dir, exist_ok=True)\n",
    "\n",
    "# Create an ImageDataGenerator with desired augmentation options\n",
    "datagen = ImageDataGenerator(\n",
    "    rotation_range=20,          # Rotate images up to 20 degrees\n",
    "    width_shift_range=0.2,      # Shift images horizontally by up to 20% of the image width\n",
    "    height_shift_range=0.2,     # Shift images vertically by up to 20% of the image height\n",
    "    horizontal_flip=True,       # Perform horizontal flips\n",
    "    vertical_flip=True,         # Perform vertical flips\n",
    ")\n",
    "\n",
    "# Loop through images in the dataset folder\n",
    "for filename in os.listdir(dataset_folder):\n",
    "    if filename.endswith('.jpg'):  # Assuming your dataset consists of JPEG images\n",
    "        image_path = os.path.join(dataset_folder, filename)\n",
    "        img = cv2.imread(image_path)  # Load the image using OpenCV\n",
    "\n",
    "        # Reshape the image to match the input shape of the generator (e.g., 224x224)\n",
    "        img = cv2.resize(img, (224, 224))\n",
    "\n",
    "        # Expand the dimensions to match the batch shape expected by the generator (batch_size, height, width, channels)\n",
    "        img = np.expand_dims(img, axis=0)\n",
    "\n",
    "        # Generate augmented images\n",
    "        augmented_images = datagen.flow(img, batch_size=1, save_to_dir=output_dir, save_prefix='aug', save_format='jpeg')\n",
    "\n",
    "        # Generate a specified number of augmented images (e.g., 10)\n",
    "        num_augmented = 10\n",
    "        for i, augmented_img in enumerate(augmented_images):\n",
    "            if i >= num_augmented:\n",
    "                break\n",
    "\n",
    "print(\"Augmentation complete.\")\n"
   ]
  }
 ],
 "metadata": {
  "kernelspec": {
   "display_name": "py3.11",
   "language": "python",
   "name": "python3"
  },
  "language_info": {
   "codemirror_mode": {
    "name": "ipython",
    "version": 3
   },
   "file_extension": ".py",
   "mimetype": "text/x-python",
   "name": "python",
   "nbconvert_exporter": "python",
   "pygments_lexer": "ipython3",
   "version": "3.11.4"
  },
  "orig_nbformat": 4
 },
 "nbformat": 4,
 "nbformat_minor": 2
}
