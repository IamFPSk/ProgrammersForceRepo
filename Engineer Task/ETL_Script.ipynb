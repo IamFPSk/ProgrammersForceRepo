{
 "cells": [
  {
   "cell_type": "code",
   "execution_count": 8,
   "metadata": {},
   "outputs": [
    {
     "name": "stdout",
     "output_type": "stream",
     "text": [
      "DataFrame stored in PostgreSQL\n"
     ]
    }
   ],
   "source": [
    "import psycopg2\n",
    "from sqlalchemy import create_engine\n",
    "import pandas as pd\n",
    "\n",
    "# Connection parameters\n",
    "db_params = {\n",
    "    \"host\": 'localhost',\n",
    "    \"database\": \"improvement_top_10_features\",\n",
    "    \"user\": \"postgres\",\n",
    "    \"password\": \"1234\"\n",
    "}\n",
    "\n",
    "Final = pd.read_csv('improvement_top_10_features.csv')\n",
    "\n",
    "# Establish a connection to PostgreSQL\n",
    "conn = psycopg2.connect(**db_params)\n",
    "\n",
    "# Create an SQLalchemy engine\n",
    "engine = create_engine(f'postgresql://{db_params[\"user\"]}:{db_params[\"password\"]}@{db_params[\"host\"]}/{db_params[\"database\"]}')\n",
    "\n",
    "# Store the DataFrame in the PostgreSQL database\n",
    "Final.to_sql('final_table', engine, if_exists='replace', index=False)\n",
    "\n",
    "# Close the connection\n",
    "conn.close()\n",
    "\n",
    "print(\"DataFrame stored in PostgreSQL\")\n"
   ]
  }
 ],
 "metadata": {
  "kernelspec": {
   "display_name": "py3.11",
   "language": "python",
   "name": "python3"
  },
  "language_info": {
   "codemirror_mode": {
    "name": "ipython",
    "version": 3
   },
   "file_extension": ".py",
   "mimetype": "text/x-python",
   "name": "python",
   "nbconvert_exporter": "python",
   "pygments_lexer": "ipython3",
   "version": "3.11.4"
  },
  "orig_nbformat": 4
 },
 "nbformat": 4,
 "nbformat_minor": 2
}
