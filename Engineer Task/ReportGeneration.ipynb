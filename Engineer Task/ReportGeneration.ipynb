{
 "cells": [
  {
   "cell_type": "code",
   "execution_count": 19,
   "metadata": {},
   "outputs": [],
   "source": [
    "import psycopg2\n",
    "import pandas as pd\n",
    "from jinja2 import Template"
   ]
  },
  {
   "cell_type": "code",
   "execution_count": 20,
   "metadata": {},
   "outputs": [],
   "source": [
    "# Establish a connection\n",
    "conn = psycopg2.connect(\n",
    "    database=\"numeric_top_10_features\",\n",
    "    user=\"postgres\",\n",
    "    password=\"1234\",\n",
    "    host=\"localhost\"\n",
    ")"
   ]
  },
  {
   "cell_type": "code",
   "execution_count": 21,
   "metadata": {},
   "outputs": [
    {
     "name": "stderr",
     "output_type": "stream",
     "text": [
      "/var/folders/nx/7gj5ddwj3qq_yn5v4hkglrcm0000gq/T/ipykernel_12725/176675782.py:2: UserWarning: pandas only supports SQLAlchemy connectable (engine/connection) or database string URI or sqlite3 DBAPI2 connection. Other DBAPI2 objects are not tested. Please consider using SQLAlchemy.\n",
      "  df = pd.read_sql(query, conn)\n"
     ]
    }
   ],
   "source": [
    "query = \"SELECT * FROM final_table;\"\n",
    "df = pd.read_sql(query, conn)"
   ]
  },
  {
   "cell_type": "code",
   "execution_count": 33,
   "metadata": {},
   "outputs": [],
   "source": [
    "# Exclude non-numeric columns from the DataFrame\n",
    "numeric_df = df.select_dtypes(include=['number'])\n",
    "\n",
    "# Render the template\n",
    "report_template = \"\"\"\n",
    "<h1>Report on Fraud Analysis</h1>\n",
    "<p>Summary of the dataset:</p>\n",
    "{{ df.head().to_html() }}\n",
    "\n",
    "<h2>Fraud Distribution Count:</h2>\n",
    "{{ fraud_distribution_count|safe }}\n",
    "\n",
    "<h2>Numerical Features:</h2>\n",
    "{{ numerical_features|safe }}\n",
    "\n",
    "<h2>Correlation Matrix:</h2>\n",
    "{{ correlation_matrix|safe }}\n",
    "\"\"\"\n",
    "\n",
    "template = Template(report_template)\n",
    "\n",
    "fraud_distribution_count = df['FraudFound_P'].value_counts().to_frame().to_html()\n",
    "numerical_features = numeric_df.columns.to_list()\n",
    "correlation_matrix = numeric_df.corr().to_html()\n",
    "\n",
    "report_html = template.render(df=df, fraud_distribution_count=fraud_distribution_count, numerical_features=numerical_features, correlation_matrix=correlation_matrix)\n",
    "\n",
    "# Save the report to an HTML file\n",
    "with open(\"Numeric Data Report.html\", \"w\") as f:\n",
    "    f.write(report_html)"
   ]
  },
  {
   "cell_type": "code",
   "execution_count": 23,
   "metadata": {},
   "outputs": [],
   "source": [
    "conn.close()"
   ]
  }
 ],
 "metadata": {
  "kernelspec": {
   "display_name": "py3.11",
   "language": "python",
   "name": "python3"
  },
  "language_info": {
   "codemirror_mode": {
    "name": "ipython",
    "version": 3
   },
   "file_extension": ".py",
   "mimetype": "text/x-python",
   "name": "python",
   "nbconvert_exporter": "python",
   "pygments_lexer": "ipython3",
   "version": "3.11.4"
  },
  "orig_nbformat": 4
 },
 "nbformat": 4,
 "nbformat_minor": 2
}
