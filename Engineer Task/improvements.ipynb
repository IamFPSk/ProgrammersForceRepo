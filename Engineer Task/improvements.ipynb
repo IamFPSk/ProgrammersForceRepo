{
 "cells": [
  {
   "cell_type": "code",
   "execution_count": 1,
   "metadata": {},
   "outputs": [],
   "source": [
    "import pandas as pd\n",
    "from sklearn.preprocessing import StandardScaler, LabelEncoder\n",
    "from sklearn.model_selection import train_test_split\n",
    "from sklearn.ensemble import RandomForestClassifier"
   ]
  },
  {
   "cell_type": "code",
   "execution_count": 15,
   "metadata": {},
   "outputs": [
    {
     "name": "stdout",
     "output_type": "stream",
     "text": [
      "0       1994-12-05\n",
      "1       1994-01-03\n",
      "2       1994-10-05\n",
      "3       1994-06-02\n",
      "4       1994-01-05\n",
      "           ...    \n",
      "15415   1996-11-04\n",
      "15416   1996-11-05\n",
      "15417   1996-11-05\n",
      "15418   1996-12-01\n",
      "15419   1996-12-02\n",
      "Name: DATE, Length: 15420, dtype: datetime64[ns]\n"
     ]
    }
   ],
   "source": [
    "# Read the data from the CSV file\n",
    "df = pd.read_csv('fraud_oracle.csv')\n",
    "\n",
    "day_mapping = {\n",
    "    'Monday': 'Mon',\n",
    "    'Tuesday': 'Tue',\n",
    "    'Wednesday': 'Wed',\n",
    "    'Thursday': 'Thu',\n",
    "    'Friday': 'Fri',\n",
    "    'Saturday': 'Sat',\n",
    "    'Sunday': 'Sun'\n",
    "}\n",
    "\n",
    "# Combine the columns into a new 'DATE' column with a custom format\n",
    "date_strings = df['Year'].astype(str) + '-' + df['Month'] + '-' + df['WeekOfMonth'].astype(str) + '-' + df['DayOfWeek'].map(day_mapping)\n",
    "df['DATE'] = pd.to_datetime(date_strings, format='%Y-%b-%d-%a')\n",
    "\n",
    "# Drop the original columns\n",
    "df.drop(['Month', 'WeekOfMonth', 'DayOfWeek', 'Year'], axis=1, inplace=True)\n",
    "\n",
    "print(df.DATE)"
   ]
  },
  {
   "cell_type": "code",
   "execution_count": 9,
   "metadata": {},
   "outputs": [
    {
     "name": "stdout",
     "output_type": "stream",
     "text": [
      "     Make AccidentArea     Sex MaritalStatus  Age         PolicyType  \\\n",
      "0   Honda        Urban  Female        Single   21  Sport - Liability   \n",
      "1   Honda        Urban    Male        Single   34  Sport - Collision   \n",
      "2   Honda        Urban    Male       Married   47  Sport - Collision   \n",
      "3  Toyota        Rural    Male       Married   65  Sedan - Liability   \n",
      "4   Honda        Urban  Female        Single   27  Sport - Collision   \n",
      "\n",
      "      VehiclePrice  FraudFound_P  Deductible Days_Policy_Claim  \\\n",
      "0  more than 69000             0         300      more than 30   \n",
      "1  more than 69000             0         400      more than 30   \n",
      "2  more than 69000             0         400      more than 30   \n",
      "3   20000 to 29000             0         400      more than 30   \n",
      "4  more than 69000             0         400      more than 30   \n",
      "\n",
      "  PastNumberOfClaims AgeOfVehicle AgeOfPolicyHolder PoliceReportFiled  \\\n",
      "0               none      3 years          26 to 30                No   \n",
      "1               none      6 years          31 to 35               Yes   \n",
      "2                  1      7 years          41 to 50                No   \n",
      "3                  1  more than 7          51 to 65               Yes   \n",
      "4               none      5 years          31 to 35                No   \n",
      "\n",
      "  WitnessPresent AgentType NumberOfSuppliments AddressChange_Claim  \\\n",
      "0             No  External                none              1 year   \n",
      "1             No  External                none           no change   \n",
      "2             No  External                none           no change   \n",
      "3             No  External         more than 5           no change   \n",
      "4             No  External                none           no change   \n",
      "\n",
      "  NumberOfCars BasePolicy  \n",
      "0       3 to 4  Liability  \n",
      "1    1 vehicle  Collision  \n",
      "2    1 vehicle  Collision  \n",
      "3    1 vehicle  Liability  \n",
      "4    1 vehicle  Collision  \n"
     ]
    }
   ],
   "source": [
    "columns_to_remove = ['Fault', 'VehicleCategory', 'PolicyNumber', 'RepNumber',\"MonthClaimed\", \"DayOfWeekClaimed\", \"DriverRating\", \"Days_Policy_Accident\", \"DATE\", \"WeekOfMonthClaimed\"]\n",
    "final = df.drop(columns=columns_to_remove)\n",
    "\n",
    "print(final.head())"
   ]
  },
  {
   "cell_type": "code",
   "execution_count": 10,
   "metadata": {},
   "outputs": [],
   "source": [
    "# Separate features and target variable\n",
    "X = final.drop(columns=['FraudFound_P'])\n",
    "y = final['FraudFound_P']\n",
    "\n",
    "# Identify categorical columns\n",
    "categorical_columns = X.select_dtypes(include=['object']).columns\n",
    "\n",
    "# Identify numerical columns\n",
    "numerical_columns = X.select_dtypes(include=['int64', 'float64']).columns\n",
    "\n",
    "# Initialize LabelEncoder for categorical columns\n",
    "label_encoder = LabelEncoder()\n",
    "\n",
    "# Apply label encoding to categorical columns\n",
    "X_encoded = X.copy()\n",
    "X_encoded[categorical_columns] = X[categorical_columns].apply(label_encoder.fit_transform)\n",
    "\n",
    "# Apply feature scaling to numerical columns\n",
    "scaler = StandardScaler()\n",
    "X_encoded[numerical_columns] = scaler.fit_transform(X_encoded[numerical_columns])"
   ]
  },
  {
   "cell_type": "code",
   "execution_count": 11,
   "metadata": {},
   "outputs": [
    {
     "name": "stdout",
     "output_type": "stream",
     "text": [
      "Index(['Make', 'AccidentArea', 'Sex', 'MaritalStatus', 'Age', 'PolicyType',\n",
      "       'VehiclePrice', 'Deductible', 'Days_Policy_Claim', 'PastNumberOfClaims',\n",
      "       'AgeOfVehicle', 'AgeOfPolicyHolder', 'PoliceReportFiled',\n",
      "       'WitnessPresent', 'AgentType', 'NumberOfSuppliments',\n",
      "       'AddressChange_Claim', 'NumberOfCars', 'BasePolicy'],\n",
      "      dtype='object')\n",
      "       Make  AccidentArea  Sex  MaritalStatus       Age  PolicyType  \\\n",
      "0         6             1    0              2 -1.397554           5   \n",
      "1         6             1    1              2 -0.434015           4   \n",
      "2         6             1    1              1  0.529523           4   \n",
      "3        17             0    1              1  1.863653           2   \n",
      "4         6             1    0              2 -0.952844           4   \n",
      "...     ...           ...  ...            ...       ...         ...   \n",
      "15415    17             1    1              1 -0.359897           1   \n",
      "15416    13             1    1              1 -0.730489           2   \n",
      "15417    17             0    1              2 -1.175199           1   \n",
      "15418    17             1    0              1 -0.434015           0   \n",
      "15419    17             1    1              2 -1.397554           1   \n",
      "\n",
      "       VehiclePrice  Deductible  Days_Policy_Claim  PastNumberOfClaims  \\\n",
      "0                 5   -2.450633                  2                   3   \n",
      "1                 5   -0.175298                  2                   3   \n",
      "2                 5   -0.175298                  2                   0   \n",
      "3                 0   -0.175298                  2                   0   \n",
      "4                 5   -0.175298                  2                   3   \n",
      "...             ...         ...                ...                 ...   \n",
      "15415             0   -0.175298                  2                   1   \n",
      "15416             1   -0.175298                  2                   2   \n",
      "15417             0   -0.175298                  2                   2   \n",
      "15418             0   -0.175298                  2                   3   \n",
      "15419             0   -0.175298                  2                   3   \n",
      "\n",
      "       AgeOfVehicle  AgeOfPolicyHolder  PoliceReportFiled  WitnessPresent  \\\n",
      "0                 1                  3                  0               0   \n",
      "1                 4                  4                  1               0   \n",
      "2                 5                  6                  0               0   \n",
      "3                 6                  7                  1               0   \n",
      "4                 3                  4                  0               0   \n",
      "...             ...                ...                ...             ...   \n",
      "15415             4                  4                  0               0   \n",
      "15416             4                  4                  0               0   \n",
      "15417             3                  3                  0               0   \n",
      "15418             0                  4                  0               0   \n",
      "15419             3                  3                  0               0   \n",
      "\n",
      "       AgentType  NumberOfSuppliments  AddressChange_Claim  NumberOfCars  \\\n",
      "0              0                    3                    0             2   \n",
      "1              0                    3                    3             0   \n",
      "2              0                    3                    3             0   \n",
      "3              0                    2                    3             0   \n",
      "4              0                    3                    3             0   \n",
      "...          ...                  ...                  ...           ...   \n",
      "15415          0                    3                    3             0   \n",
      "15416          0                    2                    3             2   \n",
      "15417          0                    0                    3             0   \n",
      "15418          0                    2                    3             0   \n",
      "15419          0                    0                    3             0   \n",
      "\n",
      "       BasePolicy  \n",
      "0               2  \n",
      "1               1  \n",
      "2               1  \n",
      "3               2  \n",
      "4               1  \n",
      "...           ...  \n",
      "15415           1  \n",
      "15416           2  \n",
      "15417           1  \n",
      "15418           0  \n",
      "15419           1  \n",
      "\n",
      "[15420 rows x 19 columns]\n"
     ]
    }
   ],
   "source": [
    "print(X_encoded.columns)\n",
    "print(X_encoded)"
   ]
  },
  {
   "cell_type": "code",
   "execution_count": 12,
   "metadata": {},
   "outputs": [],
   "source": [
    "# Split the data into train and test sets\n",
    "X_train, X_test, y_train, y_test = train_test_split(X_encoded, y, test_size=0.2, random_state=42)"
   ]
  },
  {
   "cell_type": "code",
   "execution_count": 13,
   "metadata": {},
   "outputs": [
    {
     "name": "stdout",
     "output_type": "stream",
     "text": [
      "Model Accuracy: 0.9328793774319066\n"
     ]
    }
   ],
   "source": [
    "# Initialize the Random Forest classifier\n",
    "random_forest_model = RandomForestClassifier()\n",
    "\n",
    "# Fit the model to the training data\n",
    "random_forest_model.fit(X_train, y_train)\n",
    "\n",
    "# Evaluate the model on the test data\n",
    "accuracy = random_forest_model.score(X_test, y_test)\n",
    "print(\"Model Accuracy:\", accuracy)"
   ]
  },
  {
   "cell_type": "code",
   "execution_count": 14,
   "metadata": {},
   "outputs": [
    {
     "name": "stdout",
     "output_type": "stream",
     "text": [
      "                Feature  Importance\n",
      "4                   Age    0.264965\n",
      "0                  Make    0.140662\n",
      "15  NumberOfSuppliments    0.090355\n",
      "10         AgeOfVehicle    0.087912\n",
      "9    PastNumberOfClaims    0.085015\n",
      "6          VehiclePrice    0.062444\n",
      "11    AgeOfPolicyHolder    0.056610\n",
      "3         MaritalStatus    0.040227\n",
      "5            PolicyType    0.028091\n",
      "1          AccidentArea    0.025856\n"
     ]
    }
   ],
   "source": [
    "# Get feature importances\n",
    "feature_importances = random_forest_model.feature_importances_\n",
    "\n",
    "# Create a DataFrame with feature names and their importances\n",
    "feature_importance_df = pd.DataFrame({'Feature': X_encoded.columns, 'Importance': feature_importances})\n",
    "\n",
    "# Sort the DataFrame by importance in descending order\n",
    "feature_importance_df = feature_importance_df.sort_values(by='Importance', ascending=False)\n",
    "\n",
    "# Get the top 10 important features\n",
    "top_10_features = feature_importance_df.head(10)\n",
    "\n",
    "print(top_10_features)"
   ]
  },
  {
   "cell_type": "code",
   "execution_count": 18,
   "metadata": {},
   "outputs": [
    {
     "data": {
      "image/png": "[encoded data removed]",
      "text/plain": [
       "<Figure size 600x500 with 1 Axes>"
      ]
     },
     "metadata": {},
     "output_type": "display_data"
    }
   ],
   "source": [
    "import matplotlib.pyplot as plt\n",
    "\n",
    "# Assuming you have the top_10_features DataFrame\n",
    "\n",
    "# Plot the barh plot\n",
    "plt.figure(figsize=(6, 5))\n",
    "plt.barh(top_10_features['Feature'], top_10_features['Importance'])\n",
    "plt.xlabel('Importance')\n",
    "plt.ylabel('Feature')\n",
    "plt.title('Top 10 Important Features')\n",
    "plt.gca().invert_yaxis()  # Invert y-axis to have the most important feature on top\n",
    "plt.show()\n"
   ]
  },
  {
   "cell_type": "code",
   "execution_count": 19,
   "metadata": {},
   "outputs": [
    {
     "name": "stdout",
     "output_type": "stream",
     "text": [
      "                   Age  Make  NumberOfSuppliments  AgeOfVehicle  \\\n",
      "FraudFound_P                                                      \n",
      "0            -1.397554     6                    3             1   \n",
      "0            -0.434015     6                    3             4   \n",
      "0             0.529523     6                    3             5   \n",
      "0             1.863653    17                    2             6   \n",
      "0            -0.952844     6                    3             3   \n",
      "\n",
      "              PastNumberOfClaims  VehiclePrice  AgeOfPolicyHolder  \\\n",
      "FraudFound_P                                                        \n",
      "0                              3             5                  3   \n",
      "0                              3             5                  4   \n",
      "0                              0             5                  6   \n",
      "0                              0             0                  7   \n",
      "0                              3             5                  4   \n",
      "\n",
      "              MaritalStatus  PolicyType  AccidentArea  \n",
      "FraudFound_P                                           \n",
      "0                         2           5             1  \n",
      "0                         2           4             1  \n",
      "0                         1           4             1  \n",
      "0                         1           2             0  \n",
      "0                         2           4             1  \n"
     ]
    }
   ],
   "source": [
    "Data_top_10 = X_encoded[top_10_features['Feature']]\n",
    "Data_top_10.set_index(y, inplace=True)\n",
    "\n",
    "print(Data_top_10.head())\n",
    "\n",
    "Data_top_10.to_csv('improvement_top_10_features.csv')"
   ]
  }
 ],
 "metadata": {
  "kernelspec": {
   "display_name": "py3.11",
   "language": "python",
   "name": "python3"
  },
  "language_info": {
   "codemirror_mode": {
    "name": "ipython",
    "version": 3
   },
   "file_extension": ".py",
   "mimetype": "text/x-python",
   "name": "python",
   "nbconvert_exporter": "python",
   "pygments_lexer": "ipython3",
   "version": "3.11.4"
  },
  "orig_nbformat": 4
 },
 "nbformat": 4,
 "nbformat_minor": 2
}
