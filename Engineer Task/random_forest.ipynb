{
 "cells": [
  {
   "cell_type": "code",
   "execution_count": 6,
   "metadata": {},
   "outputs": [],
   "source": [
    "import pandas as pd\n",
    "from sklearn.preprocessing import StandardScaler, LabelEncoder\n",
    "from sklearn.model_selection import train_test_split\n",
    "from sklearn.ensemble import RandomForestClassifier"
   ]
  },
  {
   "cell_type": "code",
   "execution_count": 2,
   "metadata": {},
   "outputs": [
    {
     "name": "stdout",
     "output_type": "stream",
     "text": [
      "  Month  WeekOfMonth  DayOfWeek    Make AccidentArea DayOfWeekClaimed  \\\n",
      "0   Dec            5  Wednesday   Honda        Urban          Tuesday   \n",
      "1   Jan            3  Wednesday   Honda        Urban           Monday   \n",
      "2   Oct            5     Friday   Honda        Urban         Thursday   \n",
      "3   Jun            2   Saturday  Toyota        Rural           Friday   \n",
      "4   Jan            5     Monday   Honda        Urban          Tuesday   \n",
      "\n",
      "  MonthClaimed  WeekOfMonthClaimed     Sex MaritalStatus  ...  AgeOfVehicle  \\\n",
      "0          Jan                   1  Female        Single  ...       3 years   \n",
      "1          Jan                   4    Male        Single  ...       6 years   \n",
      "2          Nov                   2    Male       Married  ...       7 years   \n",
      "3          Jul                   1    Male       Married  ...   more than 7   \n",
      "4          Feb                   2  Female        Single  ...       5 years   \n",
      "\n",
      "  AgeOfPolicyHolder PoliceReportFiled WitnessPresent AgentType  \\\n",
      "0          26 to 30                No             No  External   \n",
      "1          31 to 35               Yes             No  External   \n",
      "2          41 to 50                No             No  External   \n",
      "3          51 to 65               Yes             No  External   \n",
      "4          31 to 35                No             No  External   \n",
      "\n",
      "   NumberOfSuppliments  AddressChange_Claim  NumberOfCars  Year  BasePolicy  \n",
      "0                 none               1 year        3 to 4  1994   Liability  \n",
      "1                 none            no change     1 vehicle  1994   Collision  \n",
      "2                 none            no change     1 vehicle  1994   Collision  \n",
      "3          more than 5            no change     1 vehicle  1994   Liability  \n",
      "4                 none            no change     1 vehicle  1994   Collision  \n",
      "\n",
      "[5 rows x 33 columns]\n"
     ]
    }
   ],
   "source": [
    "data = pd.read_csv('/Users/muhammadalimiran/Desktop/Engineer Task/fraud_oracle.csv')\n",
    "print(data.head())\n"
   ]
  },
  {
   "cell_type": "code",
   "execution_count": 3,
   "metadata": {},
   "outputs": [],
   "source": [
    "# Separate features and target variable\n",
    "X = data.drop(columns=['FraudFound_P'])\n",
    "y = data['FraudFound_P']\n",
    "\n",
    "# Identify categorical columns\n",
    "categorical_columns = X.select_dtypes(include=['object']).columns\n",
    "\n",
    "# Identify numerical columns\n",
    "numerical_columns = X.select_dtypes(include=['int64', 'float64']).columns\n",
    "\n",
    "# Initialize LabelEncoder for categorical columns\n",
    "label_encoder = LabelEncoder()\n",
    "\n",
    "# Apply label encoding to categorical columns\n",
    "X_encoded = X.copy()\n",
    "X_encoded[categorical_columns] = X[categorical_columns].apply(label_encoder.fit_transform)\n",
    "\n",
    "# Apply feature scaling to numerical columns\n",
    "scaler = StandardScaler()\n",
    "X_encoded[numerical_columns] = scaler.fit_transform(X_encoded[numerical_columns])"
   ]
  },
  {
   "cell_type": "code",
   "execution_count": 4,
   "metadata": {},
   "outputs": [
    {
     "name": "stdout",
     "output_type": "stream",
     "text": [
      "       Month  WeekOfMonth  DayOfWeek  Make  AccidentArea  DayOfWeekClaimed  \\\n",
      "0          2     1.717545          6     6             1                 6   \n",
      "1          4     0.164199          6     6             1                 2   \n",
      "2         10     1.717545          0     6             1                 5   \n",
      "3          6    -0.612473          2    17             0                 1   \n",
      "4          4     1.717545          1     6             1                 6   \n",
      "...      ...          ...        ...   ...           ...               ...   \n",
      "15415      9     0.940872          0    17             1                 6   \n",
      "15416      9     1.717545          4    13             1                 1   \n",
      "15417      9     1.717545          4    17             0                 1   \n",
      "15418      2    -1.389146          1    17             1                 5   \n",
      "15419      2    -0.612473          6    17             1                 5   \n",
      "\n",
      "       MonthClaimed  WeekOfMonthClaimed  Sex  MaritalStatus  ...  \\\n",
      "0                 5           -1.345408    0              2  ...   \n",
      "1                 5            1.037295    1              2  ...   \n",
      "2                10           -0.551174    1              1  ...   \n",
      "3                 6           -1.345408    1              1  ...   \n",
      "4                 4           -0.551174    0              2  ...   \n",
      "...             ...                 ...  ...            ...  ...   \n",
      "15415            10            1.831529    1              1  ...   \n",
      "15416             3           -1.345408    1              1  ...   \n",
      "15417             3           -1.345408    1              2  ...   \n",
      "15418             3           -0.551174    0              1  ...   \n",
      "15419             3            0.243060    1              2  ...   \n",
      "\n",
      "       AgeOfVehicle  AgeOfPolicyHolder  PoliceReportFiled  WitnessPresent  \\\n",
      "0                 1                  3                  0               0   \n",
      "1                 4                  4                  1               0   \n",
      "2                 5                  6                  0               0   \n",
      "3                 6                  7                  1               0   \n",
      "4                 3                  4                  0               0   \n",
      "...             ...                ...                ...             ...   \n",
      "15415             4                  4                  0               0   \n",
      "15416             4                  4                  0               0   \n",
      "15417             3                  3                  0               0   \n",
      "15418             0                  4                  0               0   \n",
      "15419             3                  3                  0               0   \n",
      "\n",
      "       AgentType  NumberOfSuppliments  AddressChange_Claim  NumberOfCars  \\\n",
      "0              0                    3                    0             2   \n",
      "1              0                    3                    3             0   \n",
      "2              0                    3                    3             0   \n",
      "3              0                    2                    3             0   \n",
      "4              0                    3                    3             0   \n",
      "...          ...                  ...                  ...           ...   \n",
      "15415          0                    3                    3             0   \n",
      "15416          0                    2                    3             2   \n",
      "15417          0                    0                    3             0   \n",
      "15418          0                    2                    3             0   \n",
      "15419          0                    0                    3             0   \n",
      "\n",
      "           Year  BasePolicy  \n",
      "0     -1.078658           2  \n",
      "1     -1.078658           1  \n",
      "2     -1.078658           1  \n",
      "3     -1.078658           2  \n",
      "4     -1.078658           1  \n",
      "...         ...         ...  \n",
      "15415  1.411112           1  \n",
      "15416  1.411112           2  \n",
      "15417  1.411112           1  \n",
      "15418  1.411112           0  \n",
      "15419  1.411112           1  \n",
      "\n",
      "[15420 rows x 32 columns]\n"
     ]
    }
   ],
   "source": [
    "print(X_encoded)"
   ]
  },
  {
   "cell_type": "code",
   "execution_count": 9,
   "metadata": {},
   "outputs": [],
   "source": [
    "# Split the data into train and test sets\n",
    "X_train, X_test, y_train, y_test = train_test_split(X_encoded, y, test_size=0.2, random_state=42)"
   ]
  },
  {
   "cell_type": "code",
   "execution_count": 10,
   "metadata": {},
   "outputs": [
    {
     "name": "stdout",
     "output_type": "stream",
     "text": [
      "Model Accuracy: 0.937094682230869\n"
     ]
    }
   ],
   "source": [
    "# Initialize the Random Forest classifier\n",
    "random_forest_model = RandomForestClassifier()\n",
    "\n",
    "# Fit the model to the training data\n",
    "random_forest_model.fit(X_train, y_train)\n",
    "\n",
    "# Evaluate the model on the test data\n",
    "accuracy = random_forest_model.score(X_test, y_test)\n",
    "print(\"Model Accuracy:\", accuracy)"
   ]
  },
  {
   "cell_type": "code",
   "execution_count": 22,
   "metadata": {},
   "outputs": [
    {
     "name": "stdout",
     "output_type": "stream",
     "text": [
      "               Feature  Importance\n",
      "15        PolicyNumber    0.121053\n",
      "10                 Age    0.077964\n",
      "16           RepNumber    0.070961\n",
      "6         MonthClaimed    0.059850\n",
      "0                Month    0.058744\n",
      "2            DayOfWeek    0.049306\n",
      "3                 Make    0.048382\n",
      "5     DayOfWeekClaimed    0.044286\n",
      "1          WeekOfMonth    0.040860\n",
      "7   WeekOfMonthClaimed    0.040829\n"
     ]
    },
    {
     "ename": "",
     "evalue": "",
     "output_type": "error",
     "traceback": [
      "\u001b[1;31mThe Kernel crashed while executing code in the the current cell or a previous cell. Please review the code in the cell(s) to identify a possible cause of the failure. Click <a href='https://aka.ms/vscodeJupyterKernelCrash'>here</a> for more info. View Jupyter <a href='command:jupyter.viewOutput'>log</a> for further details."
     ]
    }
   ],
   "source": [
    "# Get feature importances\n",
    "feature_importances = random_forest_model.feature_importances_\n",
    "\n",
    "# Create a DataFrame with feature names and their importances\n",
    "feature_importance_df = pd.DataFrame({'Feature': X_encoded.columns, 'Importance': feature_importances})\n",
    "\n",
    "# Sort the DataFrame by importance in descending order\n",
    "feature_importance_df = feature_importance_df.sort_values(by='Importance', ascending=False)\n",
    "\n",
    "# Get the top 10 important features\n",
    "top_10_features = feature_importance_df.head(10)\n",
    "\n",
    "print(top_10_features)"
   ]
  },
  {
   "cell_type": "code",
   "execution_count": 16,
   "metadata": {},
   "outputs": [
    {
     "name": "stdout",
     "output_type": "stream",
     "text": [
      "              PolicyNumber       Age  RepNumber  MonthClaimed  Month  \\\n",
      "FraudFound_P                                                           \n",
      "0                -1.731938 -1.397554   0.764540             5      2   \n",
      "0                -1.731714 -0.434015   1.416743             5      4   \n",
      "0                -1.731489  0.529523  -0.322464            10     10   \n",
      "0                -1.731265  1.863653  -0.974666             6      6   \n",
      "0                -1.731040 -0.952844  -1.192067             4      4   \n",
      "\n",
      "              DayOfWeek  Make  DayOfWeekClaimed  WeekOfMonth  \\\n",
      "FraudFound_P                                                   \n",
      "0                     6     6                 6     1.717545   \n",
      "0                     6     6                 2     0.164199   \n",
      "0                     0     6                 5     1.717545   \n",
      "0                     2    17                 1    -0.612473   \n",
      "0                     1     6                 6     1.717545   \n",
      "\n",
      "              WeekOfMonthClaimed  \n",
      "FraudFound_P                      \n",
      "0                      -1.345408  \n",
      "0                       1.037295  \n",
      "0                      -0.551174  \n",
      "0                      -1.345408  \n",
      "0                      -0.551174  \n"
     ]
    }
   ],
   "source": [
    "# Drop all other features from X_encoded except for the top 10\n",
    "X_encoded_top_10 = X_encoded[top_10_features['Feature']]\n",
    "X_encoded_top_10.set_index(y, inplace=True)\n",
    "\n",
    "print(X_encoded_top_10.head())"
   ]
  },
  {
   "cell_type": "code",
   "execution_count": 18,
   "metadata": {},
   "outputs": [
    {
     "name": "stdout",
     "output_type": "stream",
     "text": [
      "              PolicyNumber  Age  RepNumber MonthClaimed Month  DayOfWeek  \\\n",
      "FraudFound_P                                                               \n",
      "0                        1   21         12          Jan   Dec  Wednesday   \n",
      "0                        2   34         15          Jan   Jan  Wednesday   \n",
      "0                        3   47          7          Nov   Oct     Friday   \n",
      "0                        4   65          4          Jul   Jun   Saturday   \n",
      "0                        5   27          3          Feb   Jan     Monday   \n",
      "\n",
      "                Make DayOfWeekClaimed  WeekOfMonth  WeekOfMonthClaimed  \n",
      "FraudFound_P                                                            \n",
      "0              Honda          Tuesday            5                   1  \n",
      "0              Honda           Monday            3                   4  \n",
      "0              Honda         Thursday            5                   2  \n",
      "0             Toyota           Friday            2                   1  \n",
      "0              Honda          Tuesday            5                   2  \n"
     ]
    }
   ],
   "source": [
    "Data_top_10 = data[top_10_features['Feature']]\n",
    "Data_top_10.set_index(y, inplace=True)\n",
    "\n",
    "print(Data_top_10.head())"
   ]
  },
  {
   "cell_type": "code",
   "execution_count": 19,
   "metadata": {},
   "outputs": [],
   "source": [
    "X_encoded_top_10.to_csv('numeric_top_10_features.csv')\n",
    "Data_top_10.to_csv('data_top_10_features.csv')"
   ]
  }
 ],
 "metadata": {
  "kernelspec": {
   "display_name": "py3.11",
   "language": "python",
   "name": "python3"
  },
  "language_info": {
   "codemirror_mode": {
    "name": "ipython",
    "version": 3
   },
   "file_extension": ".py",
   "mimetype": "text/x-python",
   "name": "python",
   "nbconvert_exporter": "python",
   "pygments_lexer": "ipython3",
   "version": "3.11.4"
  },
  "orig_nbformat": 4
 },
 "nbformat": 4,
 "nbformat_minor": 2
}
