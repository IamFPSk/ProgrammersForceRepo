{
 "cells": [
  {
   "cell_type": "code",
   "execution_count": 20,
   "metadata": {},
   "outputs": [],
   "source": [
    "import pandas as pd\n",
    "from sklearn.preprocessing import StandardScaler, LabelEncoder\n",
    "from sklearn.model_selection import train_test_split\n",
    "from sklearn.ensemble import RandomForestClassifier\n",
    "from sklearn.ensemble import GradientBoostingClassifier\n",
    "from xgboost import XGBClassifier\n",
    "from catboost import CatBoostClassifier"
   ]
  },
  {
   "cell_type": "code",
   "execution_count": 3,
   "metadata": {},
   "outputs": [
    {
     "name": "stdout",
     "output_type": "stream",
     "text": [
      "  Month  WeekOfMonth  DayOfWeek    Make AccidentArea DayOfWeekClaimed  \\\n",
      "0   Dec            5  Wednesday   Honda        Urban          Tuesday   \n",
      "1   Jan            3  Wednesday   Honda        Urban           Monday   \n",
      "2   Oct            5     Friday   Honda        Urban         Thursday   \n",
      "3   Jun            2   Saturday  Toyota        Rural           Friday   \n",
      "4   Jan            5     Monday   Honda        Urban          Tuesday   \n",
      "\n",
      "  MonthClaimed  WeekOfMonthClaimed     Sex MaritalStatus  ...  AgeOfVehicle  \\\n",
      "0          Jan                   1  Female        Single  ...       3 years   \n",
      "1          Jan                   4    Male        Single  ...       6 years   \n",
      "2          Nov                   2    Male       Married  ...       7 years   \n",
      "3          Jul                   1    Male       Married  ...   more than 7   \n",
      "4          Feb                   2  Female        Single  ...       5 years   \n",
      "\n",
      "  AgeOfPolicyHolder PoliceReportFiled WitnessPresent AgentType  \\\n",
      "0          26 to 30                No             No  External   \n",
      "1          31 to 35               Yes             No  External   \n",
      "2          41 to 50                No             No  External   \n",
      "3          51 to 65               Yes             No  External   \n",
      "4          31 to 35                No             No  External   \n",
      "\n",
      "   NumberOfSuppliments  AddressChange_Claim  NumberOfCars  Year  BasePolicy  \n",
      "0                 none               1 year        3 to 4  1994   Liability  \n",
      "1                 none            no change     1 vehicle  1994   Collision  \n",
      "2                 none            no change     1 vehicle  1994   Collision  \n",
      "3          more than 5            no change     1 vehicle  1994   Liability  \n",
      "4                 none            no change     1 vehicle  1994   Collision  \n",
      "\n",
      "[5 rows x 33 columns]\n"
     ]
    }
   ],
   "source": [
    "data = pd.read_csv('/Users/muhammadalimiran/Desktop/Engineer Task/fraud_oracle.csv')\n",
    "print(data.head())"
   ]
  },
  {
   "cell_type": "code",
   "execution_count": 4,
   "metadata": {},
   "outputs": [],
   "source": [
    "# Separate features and target variable\n",
    "X = data.drop(columns=['FraudFound_P'])\n",
    "y = data['FraudFound_P']\n",
    "\n",
    "# Identify categorical columns\n",
    "categorical_columns = X.select_dtypes(include=['object']).columns\n",
    "\n",
    "# Identify numerical columns\n",
    "numerical_columns = X.select_dtypes(include=['int64', 'float64']).columns\n",
    "\n",
    "# Initialize LabelEncoder for categorical columns\n",
    "label_encoder = LabelEncoder()\n",
    "\n",
    "# Apply label encoding to categorical columns\n",
    "X_encoded = X.copy()\n",
    "X_encoded[categorical_columns] = X[categorical_columns].apply(label_encoder.fit_transform)\n",
    "\n",
    "# Apply feature scaling to numerical columns\n",
    "scaler = StandardScaler()\n",
    "X_encoded[numerical_columns] = scaler.fit_transform(X_encoded[numerical_columns])"
   ]
  },
  {
   "cell_type": "code",
   "execution_count": 5,
   "metadata": {},
   "outputs": [
    {
     "name": "stdout",
     "output_type": "stream",
     "text": [
      "       Month  WeekOfMonth  DayOfWeek  Make  AccidentArea  DayOfWeekClaimed  \\\n",
      "0          2     1.717545          6     6             1                 6   \n",
      "1          4     0.164199          6     6             1                 2   \n",
      "2         10     1.717545          0     6             1                 5   \n",
      "3          6    -0.612473          2    17             0                 1   \n",
      "4          4     1.717545          1     6             1                 6   \n",
      "...      ...          ...        ...   ...           ...               ...   \n",
      "15415      9     0.940872          0    17             1                 6   \n",
      "15416      9     1.717545          4    13             1                 1   \n",
      "15417      9     1.717545          4    17             0                 1   \n",
      "15418      2    -1.389146          1    17             1                 5   \n",
      "15419      2    -0.612473          6    17             1                 5   \n",
      "\n",
      "       MonthClaimed  WeekOfMonthClaimed  Sex  MaritalStatus  ...  \\\n",
      "0                 5           -1.345408    0              2  ...   \n",
      "1                 5            1.037295    1              2  ...   \n",
      "2                10           -0.551174    1              1  ...   \n",
      "3                 6           -1.345408    1              1  ...   \n",
      "4                 4           -0.551174    0              2  ...   \n",
      "...             ...                 ...  ...            ...  ...   \n",
      "15415            10            1.831529    1              1  ...   \n",
      "15416             3           -1.345408    1              1  ...   \n",
      "15417             3           -1.345408    1              2  ...   \n",
      "15418             3           -0.551174    0              1  ...   \n",
      "15419             3            0.243060    1              2  ...   \n",
      "\n",
      "       AgeOfVehicle  AgeOfPolicyHolder  PoliceReportFiled  WitnessPresent  \\\n",
      "0                 1                  3                  0               0   \n",
      "1                 4                  4                  1               0   \n",
      "2                 5                  6                  0               0   \n",
      "3                 6                  7                  1               0   \n",
      "4                 3                  4                  0               0   \n",
      "...             ...                ...                ...             ...   \n",
      "15415             4                  4                  0               0   \n",
      "15416             4                  4                  0               0   \n",
      "15417             3                  3                  0               0   \n",
      "15418             0                  4                  0               0   \n",
      "15419             3                  3                  0               0   \n",
      "\n",
      "       AgentType  NumberOfSuppliments  AddressChange_Claim  NumberOfCars  \\\n",
      "0              0                    3                    0             2   \n",
      "1              0                    3                    3             0   \n",
      "2              0                    3                    3             0   \n",
      "3              0                    2                    3             0   \n",
      "4              0                    3                    3             0   \n",
      "...          ...                  ...                  ...           ...   \n",
      "15415          0                    3                    3             0   \n",
      "15416          0                    2                    3             2   \n",
      "15417          0                    0                    3             0   \n",
      "15418          0                    2                    3             0   \n",
      "15419          0                    0                    3             0   \n",
      "\n",
      "           Year  BasePolicy  \n",
      "0     -1.078658           2  \n",
      "1     -1.078658           1  \n",
      "2     -1.078658           1  \n",
      "3     -1.078658           2  \n",
      "4     -1.078658           1  \n",
      "...         ...         ...  \n",
      "15415  1.411112           1  \n",
      "15416  1.411112           2  \n",
      "15417  1.411112           1  \n",
      "15418  1.411112           0  \n",
      "15419  1.411112           1  \n",
      "\n",
      "[15420 rows x 32 columns]\n"
     ]
    }
   ],
   "source": [
    "print(X_encoded)"
   ]
  },
  {
   "cell_type": "code",
   "execution_count": 6,
   "metadata": {},
   "outputs": [],
   "source": [
    "# Split the data into train and test sets\n",
    "X_train, X_test, y_train, y_test = train_test_split(X_encoded, y, test_size=0.2, random_state=42)"
   ]
  },
  {
   "cell_type": "code",
   "execution_count": 7,
   "metadata": {},
   "outputs": [
    {
     "name": "stdout",
     "output_type": "stream",
     "text": [
      "Model Accuracy: 0.9377431906614786\n"
     ]
    }
   ],
   "source": [
    "# Initialize the Random Forest classifier\n",
    "random_forest_model = RandomForestClassifier()\n",
    "\n",
    "# Fit the model to the training data\n",
    "random_forest_model.fit(X_train, y_train)\n",
    "\n",
    "# Evaluate the model on the test data\n",
    "accuracy = random_forest_model.score(X_test, y_test)\n",
    "print(\"Model Accuracy:\", accuracy)"
   ]
  },
  {
   "cell_type": "code",
   "execution_count": 8,
   "metadata": {},
   "outputs": [
    {
     "name": "stdout",
     "output_type": "stream",
     "text": [
      "               Feature  Importance\n",
      "15        PolicyNumber    0.122095\n",
      "10                 Age    0.077925\n",
      "16           RepNumber    0.068965\n",
      "0                Month    0.059482\n",
      "6         MonthClaimed    0.058698\n",
      "2            DayOfWeek    0.049252\n",
      "3                 Make    0.048372\n",
      "5     DayOfWeekClaimed    0.043875\n",
      "1          WeekOfMonth    0.043657\n",
      "7   WeekOfMonthClaimed    0.038926\n"
     ]
    }
   ],
   "source": [
    "# Get feature importances\n",
    "feature_importances = random_forest_model.feature_importances_\n",
    "\n",
    "# Create a DataFrame with feature names and their importances\n",
    "feature_importance_df = pd.DataFrame({'Feature': X_encoded.columns, 'Importance': feature_importances})\n",
    "\n",
    "# Sort the DataFrame by importance in descending order\n",
    "feature_importance_df = feature_importance_df.sort_values(by='Importance', ascending=False)\n",
    "\n",
    "# Get the top 10 important features\n",
    "top_10_features = feature_importance_df.head(10)\n",
    "\n",
    "print(top_10_features)"
   ]
  },
  {
   "cell_type": "code",
   "execution_count": 9,
   "metadata": {},
   "outputs": [
    {
     "name": "stdout",
     "output_type": "stream",
     "text": [
      "              PolicyNumber       Age  RepNumber  Month  MonthClaimed  \\\n",
      "FraudFound_P                                                           \n",
      "0                -1.731938 -1.397554   0.764540      2             5   \n",
      "0                -1.731714 -0.434015   1.416743      4             5   \n",
      "0                -1.731489  0.529523  -0.322464     10            10   \n",
      "0                -1.731265  1.863653  -0.974666      6             6   \n",
      "0                -1.731040 -0.952844  -1.192067      4             4   \n",
      "\n",
      "              DayOfWeek  Make  DayOfWeekClaimed  WeekOfMonth  \\\n",
      "FraudFound_P                                                   \n",
      "0                     6     6                 6     1.717545   \n",
      "0                     6     6                 2     0.164199   \n",
      "0                     0     6                 5     1.717545   \n",
      "0                     2    17                 1    -0.612473   \n",
      "0                     1     6                 6     1.717545   \n",
      "\n",
      "              WeekOfMonthClaimed  \n",
      "FraudFound_P                      \n",
      "0                      -1.345408  \n",
      "0                       1.037295  \n",
      "0                      -0.551174  \n",
      "0                      -1.345408  \n",
      "0                      -0.551174  \n"
     ]
    }
   ],
   "source": [
    "# Drop all other features from X_encoded except for the top 10\n",
    "X_encoded_top_10 = X_encoded[top_10_features['Feature']]\n",
    "X_encoded_top_10.set_index(y, inplace=True)\n",
    "\n",
    "print(X_encoded_top_10.head())"
   ]
  },
  {
   "cell_type": "code",
   "execution_count": 10,
   "metadata": {},
   "outputs": [
    {
     "name": "stdout",
     "output_type": "stream",
     "text": [
      "              PolicyNumber  Age  RepNumber Month MonthClaimed  DayOfWeek  \\\n",
      "FraudFound_P                                                               \n",
      "0                        1   21         12   Dec          Jan  Wednesday   \n",
      "0                        2   34         15   Jan          Jan  Wednesday   \n",
      "0                        3   47          7   Oct          Nov     Friday   \n",
      "0                        4   65          4   Jun          Jul   Saturday   \n",
      "0                        5   27          3   Jan          Feb     Monday   \n",
      "\n",
      "                Make DayOfWeekClaimed  WeekOfMonth  WeekOfMonthClaimed  \n",
      "FraudFound_P                                                            \n",
      "0              Honda          Tuesday            5                   1  \n",
      "0              Honda           Monday            3                   4  \n",
      "0              Honda         Thursday            5                   2  \n",
      "0             Toyota           Friday            2                   1  \n",
      "0              Honda          Tuesday            5                   2  \n"
     ]
    }
   ],
   "source": [
    "Data_top_10 = data[top_10_features['Feature']]\n",
    "Data_top_10.set_index(y, inplace=True)\n",
    "\n",
    "print(Data_top_10.head())"
   ]
  },
  {
   "cell_type": "code",
   "execution_count": 11,
   "metadata": {},
   "outputs": [],
   "source": [
    "X_encoded_top_10.to_csv('numeric_top_10_features.csv')\n",
    "Data_top_10.to_csv('data_top_10_features.csv')"
   ]
  },
  {
   "cell_type": "code",
   "execution_count": 12,
   "metadata": {},
   "outputs": [
    {
     "name": "stdout",
     "output_type": "stream",
     "text": [
      "Model Accuracy: 0.9396887159533074\n"
     ]
    }
   ],
   "source": [
    "# Initialize the Gradient Boosting classifier\n",
    "gradient_boosting_model = GradientBoostingClassifier()\n",
    "\n",
    "# Fit the model to the training data\n",
    "gradient_boosting_model.fit(X_train, y_train)\n",
    "\n",
    "# Evaluate the model on the test data\n",
    "accuracy = gradient_boosting_model.score(X_test, y_test)\n",
    "print(\"Model Accuracy:\", accuracy)"
   ]
  },
  {
   "cell_type": "code",
   "execution_count": 13,
   "metadata": {},
   "outputs": [
    {
     "name": "stdout",
     "output_type": "stream",
     "text": [
      "                Feature  Importance\n",
      "15         PolicyNumber    0.263060\n",
      "11                Fault    0.214525\n",
      "31           BasePolicy    0.144923\n",
      "28  AddressChange_Claim    0.086379\n",
      "12           PolicyType    0.047570\n",
      "17           Deductible    0.036344\n",
      "10                  Age    0.035234\n",
      "6          MonthClaimed    0.033969\n",
      "0                 Month    0.027399\n",
      "3                  Make    0.025459\n"
     ]
    }
   ],
   "source": [
    "feature_importances = gradient_boosting_model.feature_importances_\n",
    "\n",
    "# Create a DataFrame with feature names and their importances\n",
    "feature_importance_df = pd.DataFrame({'Feature': X_encoded.columns, 'Importance': feature_importances})\n",
    "\n",
    "# Sort the DataFrame by importance in descending order\n",
    "feature_importance_df = feature_importance_df.sort_values(by='Importance', ascending=False)\n",
    "\n",
    "# Get the top 10 important features\n",
    "top_10_features = feature_importance_df.head(10)\n",
    "\n",
    "print(top_10_features)"
   ]
  },
  {
   "cell_type": "code",
   "execution_count": 17,
   "metadata": {},
   "outputs": [
    {
     "name": "stdout",
     "output_type": "stream",
     "text": [
      "Model Accuracy: 0.9497405966277561\n"
     ]
    }
   ],
   "source": [
    "# Initialize the XGBoost classifier\n",
    "xgb_model = XGBClassifier()\n",
    "\n",
    "# Fit the model to the training data\n",
    "xgb_model.fit(X_train, y_train)\n",
    "\n",
    "# Evaluate the model on the test data\n",
    "accuracy = xgb_model.score(X_test, y_test)\n",
    "print(\"Model Accuracy:\", accuracy)"
   ]
  },
  {
   "cell_type": "code",
   "execution_count": 18,
   "metadata": {},
   "outputs": [
    {
     "name": "stdout",
     "output_type": "stream",
     "text": [
      "                Feature  Importance\n",
      "11                Fault    0.303660\n",
      "31           BasePolicy    0.149154\n",
      "0                 Month    0.050021\n",
      "28  AddressChange_Claim    0.045624\n",
      "6          MonthClaimed    0.044111\n",
      "15         PolicyNumber    0.041787\n",
      "4          AccidentArea    0.026477\n",
      "12           PolicyType    0.025766\n",
      "10                  Age    0.022166\n",
      "17           Deductible    0.021060\n"
     ]
    }
   ],
   "source": [
    "# Get feature importances\n",
    "feature_importances = xgb_model.feature_importances_\n",
    "\n",
    "# Create a DataFrame with feature names and their importances\n",
    "feature_importance_df = pd.DataFrame({'Feature': X_encoded.columns, 'Importance': feature_importances})\n",
    "\n",
    "# Sort the DataFrame by importance in descending order\n",
    "feature_importance_df = feature_importance_df.sort_values(by='Importance', ascending=False)\n",
    "\n",
    "# Get the top 10 important features\n",
    "top_10_features = feature_importance_df.head(10)\n",
    "\n",
    "print(top_10_features)"
   ]
  },
  {
   "cell_type": "code",
   "execution_count": 32,
   "metadata": {},
   "outputs": [
    {
     "name": "stdout",
     "output_type": "stream",
     "text": [
      "0:\tlearn: 0.6929986\ttotal: 7.23ms\tremaining: 716ms\n",
      "1:\tlearn: 0.6928570\ttotal: 14.4ms\tremaining: 706ms\n",
      "2:\tlearn: 0.6927326\ttotal: 25.5ms\tremaining: 824ms\n",
      "3:\tlearn: 0.6925865\ttotal: 29.9ms\tremaining: 717ms\n",
      "4:\tlearn: 0.6924638\ttotal: 36ms\tremaining: 684ms\n",
      "5:\tlearn: 0.6923398\ttotal: 42.1ms\tremaining: 660ms\n",
      "6:\tlearn: 0.6922130\ttotal: 46.5ms\tremaining: 618ms\n",
      "7:\tlearn: 0.6920895\ttotal: 53ms\tremaining: 609ms\n",
      "8:\tlearn: 0.6919435\ttotal: 58.9ms\tremaining: 595ms\n",
      "9:\tlearn: 0.6918157\ttotal: 62.9ms\tremaining: 566ms\n",
      "10:\tlearn: 0.6916791\ttotal: 66.9ms\tremaining: 542ms\n",
      "11:\tlearn: 0.6915550\ttotal: 72ms\tremaining: 528ms\n",
      "12:\tlearn: 0.6914319\ttotal: 76ms\tremaining: 509ms\n",
      "13:\tlearn: 0.6912462\ttotal: 79.9ms\tremaining: 491ms\n",
      "14:\tlearn: 0.6911238\ttotal: 85.2ms\tremaining: 483ms\n",
      "15:\tlearn: 0.6910006\ttotal: 91.3ms\tremaining: 479ms\n",
      "16:\tlearn: 0.6908673\ttotal: 95.2ms\tremaining: 465ms\n",
      "17:\tlearn: 0.6907220\ttotal: 99.7ms\tremaining: 454ms\n",
      "18:\tlearn: 0.6905993\ttotal: 103ms\tremaining: 440ms\n",
      "19:\tlearn: 0.6904549\ttotal: 107ms\tremaining: 428ms\n",
      "20:\tlearn: 0.6903327\ttotal: 109ms\tremaining: 412ms\n",
      "21:\tlearn: 0.6902104\ttotal: 113ms\tremaining: 399ms\n",
      "22:\tlearn: 0.6900885\ttotal: 115ms\tremaining: 385ms\n",
      "23:\tlearn: 0.6899639\ttotal: 120ms\tremaining: 379ms\n",
      "24:\tlearn: 0.6898184\ttotal: 123ms\tremaining: 369ms\n",
      "25:\tlearn: 0.6896728\ttotal: 126ms\tremaining: 359ms\n",
      "26:\tlearn: 0.6895507\ttotal: 129ms\tremaining: 348ms\n",
      "27:\tlearn: 0.6894262\ttotal: 132ms\tremaining: 339ms\n",
      "28:\tlearn: 0.6892655\ttotal: 135ms\tremaining: 330ms\n",
      "29:\tlearn: 0.6891417\ttotal: 138ms\tremaining: 321ms\n",
      "30:\tlearn: 0.6889973\ttotal: 141ms\tremaining: 313ms\n",
      "31:\tlearn: 0.6888739\ttotal: 144ms\tremaining: 305ms\n",
      "32:\tlearn: 0.6887469\ttotal: 147ms\tremaining: 299ms\n",
      "33:\tlearn: 0.6886244\ttotal: 152ms\tremaining: 294ms\n",
      "34:\tlearn: 0.6885015\ttotal: 155ms\tremaining: 288ms\n",
      "35:\tlearn: 0.6883792\ttotal: 159ms\tremaining: 283ms\n",
      "36:\tlearn: 0.6882568\ttotal: 162ms\tremaining: 276ms\n",
      "37:\tlearn: 0.6881123\ttotal: 165ms\tremaining: 270ms\n",
      "38:\tlearn: 0.6879900\ttotal: 168ms\tremaining: 262ms\n",
      "39:\tlearn: 0.6878583\ttotal: 171ms\tremaining: 256ms\n",
      "40:\tlearn: 0.6877259\ttotal: 174ms\tremaining: 250ms\n",
      "41:\tlearn: 0.6875937\ttotal: 178ms\tremaining: 245ms\n",
      "42:\tlearn: 0.6874709\ttotal: 181ms\tremaining: 239ms\n",
      "43:\tlearn: 0.6873486\ttotal: 183ms\tremaining: 233ms\n",
      "44:\tlearn: 0.6872264\ttotal: 186ms\tremaining: 228ms\n",
      "45:\tlearn: 0.6870630\ttotal: 191ms\tremaining: 224ms\n",
      "46:\tlearn: 0.6869192\ttotal: 195ms\tremaining: 220ms\n",
      "47:\tlearn: 0.6867971\ttotal: 198ms\tremaining: 214ms\n",
      "48:\tlearn: 0.6866740\ttotal: 200ms\tremaining: 208ms\n",
      "49:\tlearn: 0.6865302\ttotal: 203ms\tremaining: 203ms\n",
      "50:\tlearn: 0.6863927\ttotal: 206ms\tremaining: 198ms\n",
      "51:\tlearn: 0.6862660\ttotal: 210ms\tremaining: 194ms\n",
      "52:\tlearn: 0.6861445\ttotal: 212ms\tremaining: 188ms\n",
      "53:\tlearn: 0.6859836\ttotal: 215ms\tremaining: 183ms\n",
      "54:\tlearn: 0.6858613\ttotal: 223ms\tremaining: 183ms\n",
      "55:\tlearn: 0.6857398\ttotal: 229ms\tremaining: 180ms\n",
      "56:\tlearn: 0.6856170\ttotal: 238ms\tremaining: 180ms\n",
      "57:\tlearn: 0.6854954\ttotal: 243ms\tremaining: 176ms\n",
      "58:\tlearn: 0.6853720\ttotal: 257ms\tremaining: 179ms\n",
      "59:\tlearn: 0.6852514\ttotal: 260ms\tremaining: 173ms\n",
      "60:\tlearn: 0.6851254\ttotal: 264ms\tremaining: 169ms\n",
      "61:\tlearn: 0.6850026\ttotal: 269ms\tremaining: 165ms\n",
      "62:\tlearn: 0.6848686\ttotal: 274ms\tremaining: 161ms\n",
      "63:\tlearn: 0.6847464\ttotal: 277ms\tremaining: 156ms\n",
      "64:\tlearn: 0.6846255\ttotal: 280ms\tremaining: 151ms\n",
      "65:\tlearn: 0.6844939\ttotal: 283ms\tremaining: 146ms\n",
      "66:\tlearn: 0.6843510\ttotal: 286ms\tremaining: 141ms\n",
      "67:\tlearn: 0.6842249\ttotal: 289ms\tremaining: 136ms\n",
      "68:\tlearn: 0.6841039\ttotal: 292ms\tremaining: 131ms\n",
      "69:\tlearn: 0.6839831\ttotal: 295ms\tremaining: 126ms\n",
      "70:\tlearn: 0.6838389\ttotal: 298ms\tremaining: 122ms\n",
      "71:\tlearn: 0.6837067\ttotal: 301ms\tremaining: 117ms\n",
      "72:\tlearn: 0.6835856\ttotal: 303ms\tremaining: 112ms\n",
      "73:\tlearn: 0.6834638\ttotal: 306ms\tremaining: 108ms\n",
      "74:\tlearn: 0.6833209\ttotal: 309ms\tremaining: 103ms\n",
      "75:\tlearn: 0.6831987\ttotal: 312ms\tremaining: 98.4ms\n",
      "76:\tlearn: 0.6830767\ttotal: 314ms\tremaining: 93.8ms\n",
      "77:\tlearn: 0.6829541\ttotal: 317ms\tremaining: 89.4ms\n",
      "78:\tlearn: 0.6828116\ttotal: 320ms\tremaining: 85ms\n",
      "79:\tlearn: 0.6826911\ttotal: 322ms\tremaining: 80.5ms\n",
      "80:\tlearn: 0.6825650\ttotal: 325ms\tremaining: 76.2ms\n",
      "81:\tlearn: 0.6824440\ttotal: 328ms\tremaining: 71.9ms\n",
      "82:\tlearn: 0.6823181\ttotal: 330ms\tremaining: 67.6ms\n",
      "83:\tlearn: 0.6821879\ttotal: 333ms\tremaining: 63.5ms\n",
      "84:\tlearn: 0.6820673\ttotal: 336ms\tremaining: 59.3ms\n",
      "85:\tlearn: 0.6819472\ttotal: 338ms\tremaining: 55ms\n",
      "86:\tlearn: 0.6817993\ttotal: 341ms\tremaining: 50.9ms\n",
      "87:\tlearn: 0.6816568\ttotal: 343ms\tremaining: 46.8ms\n",
      "88:\tlearn: 0.6815259\ttotal: 346ms\tremaining: 42.7ms\n",
      "89:\tlearn: 0.6814060\ttotal: 347ms\tremaining: 38.6ms\n",
      "90:\tlearn: 0.6812621\ttotal: 350ms\tremaining: 34.6ms\n",
      "91:\tlearn: 0.6811413\ttotal: 353ms\tremaining: 30.7ms\n",
      "92:\tlearn: 0.6809979\ttotal: 355ms\tremaining: 26.7ms\n",
      "93:\tlearn: 0.6808781\ttotal: 358ms\tremaining: 22.8ms\n",
      "94:\tlearn: 0.6807374\ttotal: 360ms\tremaining: 18.9ms\n",
      "95:\tlearn: 0.6806176\ttotal: 362ms\tremaining: 15.1ms\n",
      "96:\tlearn: 0.6804729\ttotal: 365ms\tremaining: 11.3ms\n",
      "97:\tlearn: 0.6803535\ttotal: 367ms\tremaining: 7.48ms\n",
      "98:\tlearn: 0.6802176\ttotal: 369ms\tremaining: 3.73ms\n",
      "99:\tlearn: 0.6800868\ttotal: 371ms\tremaining: 0us\n",
      "Model Accuracy: 0.9361219195849546\n"
     ]
    }
   ],
   "source": [
    "# Initialize the CatBoost classifier\n",
    "catboost_model = CatBoostClassifier(iterations=100, depth=6, learning_rate=0.0001, loss_function='Logloss')\n",
    "\n",
    "# Fit the model to the training data\n",
    "catboost_model.fit(X_train, y_train)\n",
    "\n",
    "# Evaluate the model on the test data\n",
    "accuracy = catboost_model.score(X_test, y_test)\n",
    "print(\"Model Accuracy:\", accuracy)"
   ]
  },
  {
   "cell_type": "code",
   "execution_count": 35,
   "metadata": {},
   "outputs": [
    {
     "name": "stdout",
     "output_type": "stream",
     "text": [
      "             Feature  Importance\n",
      "31        BasePolicy   41.650763\n",
      "11             Fault   17.515527\n",
      "13   VehicleCategory   12.428568\n",
      "12        PolicyType    6.819316\n",
      "5   DayOfWeekClaimed    1.644312\n",
      "14      VehiclePrice    1.568753\n",
      "18      DriverRating    1.539555\n",
      "30              Year    1.473808\n",
      "2          DayOfWeek    1.420121\n",
      "3               Make    1.379358\n"
     ]
    }
   ],
   "source": [
    "\n",
    "# Get feature importances\n",
    "feature_importances = catboost_model.feature_importances_\n",
    "\n",
    "# Create a DataFrame with feature names and their importances\n",
    "feature_importance_df = pd.DataFrame({'Feature': X_encoded.columns, 'Importance': feature_importances})\n",
    "\n",
    "# Sort the DataFrame by importance in descending order\n",
    "feature_importance_df = feature_importance_df.sort_values(by='Importance', ascending=False)\n",
    "\n",
    "# Get the top 10 important features\n",
    "top_10_features = feature_importance_df.head(10)\n",
    "\n",
    "print(top_10_features)"
   ]
  }
 ],
 "metadata": {
  "kernelspec": {
   "display_name": "py3.11",
   "language": "python",
   "name": "python3"
  },
  "language_info": {
   "codemirror_mode": {
    "name": "ipython",
    "version": 3
   },
   "file_extension": ".py",
   "mimetype": "text/x-python",
   "name": "python",
   "nbconvert_exporter": "python",
   "pygments_lexer": "ipython3",
   "version": "3.11.4"
  },
  "orig_nbformat": 4
 },
 "nbformat": 4,
 "nbformat_minor": 2
}
