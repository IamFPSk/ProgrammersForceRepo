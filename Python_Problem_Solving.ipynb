{
  "nbformat": 4,
  "nbformat_minor": 0,
  "metadata": {
    "colab": {
      "provenance": []
    },
    "kernelspec": {
      "name": "python3",
      "display_name": "Python 3"
    },
    "language_info": {
      "name": "python"
    }
  },
  "cells": [
    {
      "cell_type": "code",
      "execution_count": 2,
      "metadata": {
        "colab": {
          "base_uri": "https://localhost:8080/"
        },
        "id": "3iToNy6foaE8",
        "outputId": "8d7563fb-7987-475d-e548-84ce1bd51c9d"
      },
      "outputs": [
        {
          "output_type": "stream",
          "name": "stdout",
          "text": [
            "[[0, 0], [0, 2], [1, 1], [1, 1], [2, 0], [2, 2]]\n",
            "[[9, 2, 7], [4, 5, 6], [3, 8, 1]]\n"
          ]
        }
      ],
      "source": [
        "x = [[1,2,3],[4,5,6],[7,8,9]]\n",
        "ind = []\n",
        "for i in range(len(x)):\n",
        "  for j in range(len(x)):\n",
        "    if i==j:\n",
        "      ind.append([i,j])\n",
        "    if i+j==2:\n",
        "      ind.append([i,j])\n",
        "print(ind)\n",
        "i = 0\n",
        "j = -1\n",
        "while i < len(ind)//2:\n",
        "  ind_i1, ind_j1 = ind[i]\n",
        "  ind_i2, ind_j2 = ind[j]\n",
        "  x[ind_i1][ind_j1],x[ind_i2][ind_j2] = x[ind_i2][ind_j2],x[ind_i1][ind_j1]\n",
        "  i+=1\n",
        "  j-=1\n",
        "print(x)"
      ]
    },
    {
      "cell_type": "markdown",
      "source": [
        "# Add two numbers"
      ],
      "metadata": {
        "id": "inhwj44IOQ9m"
      }
    },
    {
      "cell_type": "markdown",
      "source": [
        "Adding two number using lambda function\n"
      ],
      "metadata": {
        "id": "2yVlPfboPQKg"
      }
    },
    {
      "cell_type": "code",
      "source": [
        "# Define a lambda function to add two numbers\n",
        "add_numbers = lambda x, y: x + y\n",
        "\n",
        "# Take input from the user\n",
        "num1 = 10\n",
        "num2 = 5\n",
        "\n",
        "# Call the lambda function to add the two numbers\n",
        "result = add_numbers(num1, num2)\n",
        "\n",
        "# Print the result\n",
        "print(\"The sum of\", num1, \"and\", num2, \"is\", result)"
      ],
      "metadata": {
        "colab": {
          "base_uri": "https://localhost:8080/"
        },
        "id": "fr4vK8VHOSfc",
        "outputId": "697dde82-6a0f-46fc-bfca-46d179ef07f4"
      },
      "execution_count": 68,
      "outputs": [
        {
          "output_type": "stream",
          "name": "stdout",
          "text": [
            "The sum of 10 and 5 is 15\n"
          ]
        }
      ]
    },
    {
      "cell_type": "markdown",
      "source": [
        "Python program to add two numbers with recursive function"
      ],
      "metadata": {
        "id": "B4SilFWTPI6r"
      }
    },
    {
      "cell_type": "code",
      "source": [
        "# Define a recursive function to add two numbers\n",
        "def add_numbers_recursive(x, y):\n",
        "\tif y == 0:\n",
        "\t\treturn x\n",
        "\telse:\n",
        "\t\treturn add_numbers_recursive(x + 1, y - 1)\n",
        "\n",
        "# Take input from the user\n",
        "num1 = 10\n",
        "num2 = 20\n",
        "\n",
        "# Call the recursive function to add the two numbers\n",
        "result = add_numbers_recursive(num1, num2)\n",
        "\n",
        "# Print the result\n",
        "print(\"The sum of\", num1, \"and\", num2, \"is\", result)"
      ],
      "metadata": {
        "colab": {
          "base_uri": "https://localhost:8080/"
        },
        "id": "uaZvz4HYPHt5",
        "outputId": "10e287a2-4e4f-4eb3-cd2c-66f8eeb6d1a5"
      },
      "execution_count": 4,
      "outputs": [
        {
          "output_type": "stream",
          "name": "stdout",
          "text": [
            "The sum of 10 and 20 is 30\n"
          ]
        }
      ]
    },
    {
      "cell_type": "markdown",
      "source": [
        "# Find Maximum of two numbers in Python\n"
      ],
      "metadata": {
        "id": "gExXq58BP-0s"
      }
    },
    {
      "cell_type": "markdown",
      "source": [
        "Maximum of two numbers Using lambda function\n"
      ],
      "metadata": {
        "id": "HbvbJYARQBTq"
      }
    },
    {
      "cell_type": "code",
      "source": [
        "# python code to find maximum of two numbers\n",
        "\n",
        "a=2;b=4\n",
        "maximum = lambda a,b:a if a > b else b\n",
        "print(f'{maximum(a,b)} is a maximum number')"
      ],
      "metadata": {
        "colab": {
          "base_uri": "https://localhost:8080/"
        },
        "id": "qn9cKvwmQPQa",
        "outputId": "9df87196-4633-4508-e76a-cd9d4966135a"
      },
      "execution_count": 5,
      "outputs": [
        {
          "output_type": "stream",
          "name": "stdout",
          "text": [
            "4 is a maximum number\n"
          ]
        }
      ]
    },
    {
      "cell_type": "markdown",
      "source": [
        "Maximum of two numbers Using list comprehension\n"
      ],
      "metadata": {
        "id": "1qzU534SQnJj"
      }
    },
    {
      "cell_type": "code",
      "source": [
        "a=2;b=4\n",
        "x=[a if a>b else b]\n",
        "print(\"maximum number is:\",x)"
      ],
      "metadata": {
        "colab": {
          "base_uri": "https://localhost:8080/"
        },
        "id": "PX-l2qvlQnlb",
        "outputId": "e8f314db-3549-4248-d602-f53b82e1b8aa"
      },
      "execution_count": 6,
      "outputs": [
        {
          "output_type": "stream",
          "name": "stdout",
          "text": [
            "maximum number is: [4]\n"
          ]
        }
      ]
    },
    {
      "cell_type": "markdown",
      "source": [
        "Maximum of two numbers Using sort() method\n"
      ],
      "metadata": {
        "id": "Y008zdciQubK"
      }
    },
    {
      "cell_type": "code",
      "source": [
        "# Python program to find the\n",
        "# maximum of two numbers\n",
        "a = 2\n",
        "b = 4\n",
        "x=[a,b]\n",
        "x.sort()\n",
        "print(x[-1])"
      ],
      "metadata": {
        "colab": {
          "base_uri": "https://localhost:8080/"
        },
        "id": "AWVOaYuzQv6m",
        "outputId": "7feb3655-78af-4329-d840-8a7fed87acee"
      },
      "execution_count": 7,
      "outputs": [
        {
          "output_type": "stream",
          "name": "stdout",
          "text": [
            "4\n"
          ]
        }
      ]
    },
    {
      "cell_type": "markdown",
      "source": [
        "# Python Program to Find the Factorial of a Number\n"
      ],
      "metadata": {
        "id": "8XPp0BQ5Q3tD"
      }
    },
    {
      "cell_type": "markdown",
      "source": [
        "Find the Factorial of a Number Using Recursive approach\n"
      ],
      "metadata": {
        "id": "Pg37alvOQ6R7"
      }
    },
    {
      "cell_type": "code",
      "source": [
        "# Python 3 program to find\n",
        "# factorial of given number\n",
        "def factorial(n):\n",
        "\n",
        "\t# single line to find factorial\n",
        "\treturn 1 if (n==1 or n==0) else n * factorial(n - 1)\n",
        "\n",
        "# Driver Code\n",
        "num = 6\n",
        "print(\"Factorial of\",num,\"is\",factorial(num))"
      ],
      "metadata": {
        "colab": {
          "base_uri": "https://localhost:8080/"
        },
        "id": "Yh2lxcwpQ5Um",
        "outputId": "01715336-3b1c-49b2-84b3-94ccabb36f88"
      },
      "execution_count": 8,
      "outputs": [
        {
          "output_type": "stream",
          "name": "stdout",
          "text": [
            "Factorial of 6 is 720\n"
          ]
        }
      ]
    },
    {
      "cell_type": "markdown",
      "source": [
        "Find the Factorial of a Number Using Iterative approach\n"
      ],
      "metadata": {
        "id": "PMnTpoMcR-CI"
      }
    },
    {
      "cell_type": "code",
      "source": [
        "# Python 3 program to find\n",
        "# factorial of given number\n",
        "def factorial(n):\n",
        "\tif n < 0:\n",
        "\t\treturn 0\n",
        "\telif n == 0 or n == 1:\n",
        "\t\treturn 1\n",
        "\telse:\n",
        "\t\tfact = 1\n",
        "\t\twhile(n > 1):\n",
        "\t\t\tfact *= n\n",
        "\t\t\tn -= 1\n",
        "\t\treturn fact\n",
        "\n",
        "# Driver Code\n",
        "num = 5\n",
        "print(\"Factorial of\",num,\"is\",\n",
        "factorial(num))"
      ],
      "metadata": {
        "colab": {
          "base_uri": "https://localhost:8080/"
        },
        "id": "GXGvofIWSFA1",
        "outputId": "03d11085-f738-40e3-893d-070d8d6518d2"
      },
      "execution_count": 9,
      "outputs": [
        {
          "output_type": "stream",
          "name": "stdout",
          "text": [
            "Factorial of 5 is 120\n"
          ]
        }
      ]
    },
    {
      "cell_type": "code",
      "source": [
        "# Python 3 program to find\n",
        "# factorial of given number\n",
        "\n",
        "# Function to find factorial of given number\n",
        "def factorial(n):\n",
        "\n",
        "\tres = 1\n",
        "\n",
        "\tfor i in range(2, n+1):\n",
        "\t\tres *= i\n",
        "\treturn res\n",
        "# Driver Code\n",
        "num = 5\n",
        "print(\"Factorial of\", num, \"is\",\n",
        "factorial(num))"
      ],
      "metadata": {
        "colab": {
          "base_uri": "https://localhost:8080/"
        },
        "id": "6NMEpA3oSZ1a",
        "outputId": "6d9abb7f-f095-4345-a18f-fa6d529cb6ee"
      },
      "execution_count": 10,
      "outputs": [
        {
          "output_type": "stream",
          "name": "stdout",
          "text": [
            "Factorial of 5 is 120\n"
          ]
        }
      ]
    },
    {
      "cell_type": "markdown",
      "source": [
        "Find the Factorial of a Number Using using In-built function\n"
      ],
      "metadata": {
        "id": "fXS2HpfSTUVo"
      }
    },
    {
      "cell_type": "code",
      "source": [
        "# Python 3 program to find\n",
        "# factorial of given number\n",
        "import math\n",
        "\n",
        "def factorial(n):\n",
        "\treturn(math.factorial(n))\n",
        "\n",
        "\n",
        "# Driver Code\n",
        "num = 5\n",
        "print(\"Factorial of\", num, \"is\",\n",
        "\tfactorial(num))"
      ],
      "metadata": {
        "colab": {
          "base_uri": "https://localhost:8080/"
        },
        "id": "Ug6Ah-cxTWIX",
        "outputId": "1cb99906-8d03-4b27-cfad-1005db6ca49e"
      },
      "execution_count": 11,
      "outputs": [
        {
          "output_type": "stream",
          "name": "stdout",
          "text": [
            "Factorial of 5 is 120\n"
          ]
        }
      ]
    },
    {
      "cell_type": "markdown",
      "source": [
        "# Python Program for Prime Number\n"
      ],
      "metadata": {
        "id": "ehKi3QwdXhr9"
      }
    },
    {
      "cell_type": "code",
      "source": [
        "def prime(starting_range, ending_range):\n",
        "  lst=[]\n",
        "  flag=False                #Declaring flag variable\n",
        "  for i in range(starting_range, ending_range):#elements range between starting and ending range\n",
        "    for j in range(2,i):\n",
        "      if(i%j==0):     #checking if number is divisible or not\n",
        "        flag=True        #if number is divisible, then flag variable will become 1\n",
        "        break\n",
        "      else:\n",
        "        flag=False\n",
        "    if(flag==False):    #if flag variable is 0, then element will append in list\n",
        "      lst.append(i)\n",
        "  return lst\n",
        "\n",
        "# Driver program\n",
        "starting_range = 2\n",
        "ending_range = 7\n",
        "lst = prime(starting_range, ending_range)\n",
        "if len(lst) == 0:\n",
        "    print(\"There are no prime numbers in this range\")\n",
        "else:\n",
        "    print(\"The prime numbers in this range are: \", lst)"
      ],
      "metadata": {
        "colab": {
          "base_uri": "https://localhost:8080/"
        },
        "id": "_tK0klhBXmi0",
        "outputId": "b3fc28be-ab20-4cca-a1bb-c6ae9e85e69e"
      },
      "execution_count": 80,
      "outputs": [
        {
          "output_type": "stream",
          "name": "stdout",
          "text": [
            "The prime numbers in this range are:  [2, 3, 5]\n"
          ]
        }
      ]
    },
    {
      "cell_type": "markdown",
      "source": [
        "Python Program to Check Prime Number\n"
      ],
      "metadata": {
        "id": "tWtQhh9jgI_l"
      }
    },
    {
      "cell_type": "code",
      "source": [
        "num = 157\n",
        "# If given number is greater than 1\n",
        "if num > 1:\n",
        "  # Iterate from 2 to n / 2\n",
        "  for i in range(2, num//2+1):\n",
        "    # If num is divisible by any number between\n",
        "    # 2 and n / 2, it is not prime\n",
        "    if (num % i) == 0:\n",
        "      print(num, \"is not a prime number\")\n",
        "      break\n",
        "  else:\n",
        "    print(num, \"is a prime number\")\n",
        "else:\n",
        "  print(num, \"is not a prime number\")"
      ],
      "metadata": {
        "colab": {
          "base_uri": "https://localhost:8080/"
        },
        "id": "JIDBF56Zatd0",
        "outputId": "f881f7a3-8657-44cf-ac79-e99b43efd14f"
      },
      "execution_count": 13,
      "outputs": [
        {
          "output_type": "stream",
          "name": "stdout",
          "text": [
            "157 is a prime number\n"
          ]
        }
      ]
    },
    {
      "cell_type": "markdown",
      "source": [
        "# Python Program for n-th Fibonacci number"
      ],
      "metadata": {
        "id": "6A6WzSEph93K"
      }
    },
    {
      "cell_type": "markdown",
      "source": [
        "Python Program for n-th Fibonacci number Using recursion\n"
      ],
      "metadata": {
        "id": "XCMCLiYiiBoi"
      }
    },
    {
      "cell_type": "code",
      "source": [
        "# Function for nth Fibonacci number\n",
        "\n",
        "def Fibonacci(n):\n",
        "\tif n<= 0:\n",
        "\t\tprint(\"Incorrect input\")\n",
        "\t# First Fibonacci number is 0\n",
        "\telif n == 1:\n",
        "\t\treturn 0\n",
        "\t# Second Fibonacci number is 1\n",
        "\telif n == 2:\n",
        "\t\treturn 1\n",
        "\telse:\n",
        "\t\treturn Fibonacci(n-1)+Fibonacci(n-2)\n",
        "\n",
        "# Driver Program\n",
        "\n",
        "print(Fibonacci(0))\n"
      ],
      "metadata": {
        "colab": {
          "base_uri": "https://localhost:8080/"
        },
        "id": "hGBRwF5Yh7fL",
        "outputId": "a6596d66-4b1d-444c-e4d9-56b1f12f76f0"
      },
      "execution_count": 84,
      "outputs": [
        {
          "output_type": "stream",
          "name": "stdout",
          "text": [
            "Incorrect input\n",
            "None\n"
          ]
        }
      ]
    },
    {
      "cell_type": "code",
      "source": [
        "def Fib(n):\n",
        "  res = [0,1,1]\n",
        "  if n < 4:\n",
        "    return res[n-1]\n",
        "  else:\n",
        "    for i in range(2,n):\n",
        "      res.append(res[i]+res[i-1])\n",
        "  return res\n",
        "n = int(input())\n",
        "res = Fib(n)\n",
        "if n in res:\n",
        "  print(\"true\")\n",
        "else:\n",
        "  print(\"false\")"
      ],
      "metadata": {
        "colab": {
          "base_uri": "https://localhost:8080/"
        },
        "id": "Fwv76ksK3b6b",
        "outputId": "05eaba9f-113b-4551-c44e-f3f1041d564a"
      },
      "execution_count": 108,
      "outputs": [
        {
          "output_type": "stream",
          "name": "stdout",
          "text": [
            "13\n",
            "true\n"
          ]
        }
      ]
    },
    {
      "cell_type": "markdown",
      "source": [
        "# Program to print ASCII Value of a character\n"
      ],
      "metadata": {
        "id": "hgkqZfI73uh7"
      }
    },
    {
      "cell_type": "code",
      "source": [
        "c = 'g'\n",
        "print(\"The ASCII value of '\" + c + \"' is\", ord(c))"
      ],
      "metadata": {
        "colab": {
          "base_uri": "https://localhost:8080/"
        },
        "id": "GMoEPa5e3wE5",
        "outputId": "780f451e-3344-4cde-deed-4bcb9ee63de6"
      },
      "execution_count": 15,
      "outputs": [
        {
          "output_type": "stream",
          "name": "stdout",
          "text": [
            "The ASCII value of 'g' is 103\n"
          ]
        }
      ]
    },
    {
      "cell_type": "markdown",
      "source": [
        "Cumulative Sum"
      ],
      "metadata": {
        "id": "V2Su4zLh34Lk"
      }
    },
    {
      "cell_type": "code",
      "source": [
        "lists = [10, 20, 30, 40, 50]\n",
        "\n",
        "for i in range(1,len(lists)):\n",
        "  lists[i] = lists[i-1] + lists[i]\n",
        "print(lists)"
      ],
      "metadata": {
        "colab": {
          "base_uri": "https://localhost:8080/"
        },
        "id": "3S0V4fnGCqGz",
        "outputId": "cb1384ae-5b46-4289-912a-369a2969c3b5"
      },
      "execution_count": 16,
      "outputs": [
        {
          "output_type": "stream",
          "name": "stdout",
          "text": [
            "[10, 30, 60, 100, 150]\n"
          ]
        }
      ]
    },
    {
      "cell_type": "markdown",
      "source": [
        "# Python Program to Add Two Matrices\n"
      ],
      "metadata": {
        "id": "6Vt8ZtJfrGpE"
      }
    },
    {
      "cell_type": "markdown",
      "source": [
        "Add Two Matrices Using for loop\n"
      ],
      "metadata": {
        "id": "iO7N3Y1nrJal"
      }
    },
    {
      "cell_type": "code",
      "source": [
        "# Program to add two matrices using nested loop\n",
        "\n",
        "X = [[1,2,3],\n",
        "\t[4 ,5,6],\n",
        "\t[7 ,8,9]]\n",
        "\n",
        "Y = [[9,8,7],\n",
        "\t[6,5,4],\n",
        "\t[3,2,1]]\n",
        "\n",
        "\n",
        "result = [[0,0,0],\n",
        "\t\t[0,0,0],\n",
        "\t\t[0,0,0]]\n",
        "\n",
        "# iterate through rows\n",
        "for i in range(len(X)):\n",
        "# iterate through columns\n",
        "\tfor j in range(len(X[0])):\n",
        "\t\tresult[i][j] = X[i][j] + Y[i][j]\n",
        "\n",
        "for r in result:\n",
        "\tprint(r)\n"
      ],
      "metadata": {
        "colab": {
          "base_uri": "https://localhost:8080/"
        },
        "id": "zdjnN4VSrLvy",
        "outputId": "6e8ad46b-284c-4937-c5a1-58a9ecf71cc2"
      },
      "execution_count": 17,
      "outputs": [
        {
          "output_type": "stream",
          "name": "stdout",
          "text": [
            "[10, 10, 10]\n",
            "[10, 10, 10]\n",
            "[10, 10, 10]\n"
          ]
        }
      ]
    },
    {
      "cell_type": "markdown",
      "source": [
        "Add Two Matrices Using List comprehension"
      ],
      "metadata": {
        "id": "297JHoB1rlWI"
      }
    },
    {
      "cell_type": "code",
      "source": [
        "# Program to add two matrices\n",
        "# using list comprehension\n",
        "\n",
        "X = [[1,2,3],\n",
        "\t[4 ,5,6],\n",
        "\t[7 ,8,9]]\n",
        "\n",
        "Y = [[9,8,7],\n",
        "\t[6,5,4],\n",
        "\t[3,2,1]]\n",
        "\n",
        "result = [[X[i][j] + Y[i][j] for j in range\n",
        "(len(X[0]))] for i in range(len(X))]\n",
        "\n",
        "for r in result:\n",
        "\tprint(r)\n"
      ],
      "metadata": {
        "colab": {
          "base_uri": "https://localhost:8080/"
        },
        "id": "1QrYSDlkrkjU",
        "outputId": "d28066aa-b4f1-4cd9-edea-1c2d5cc8ee91"
      },
      "execution_count": 18,
      "outputs": [
        {
          "output_type": "stream",
          "name": "stdout",
          "text": [
            "[10, 10, 10]\n",
            "[10, 10, 10]\n",
            "[10, 10, 10]\n"
          ]
        }
      ]
    },
    {
      "cell_type": "markdown",
      "source": [
        "Add Two Matrices Using Numpy"
      ],
      "metadata": {
        "id": "X72awr6Zr09d"
      }
    },
    {
      "cell_type": "code",
      "source": [
        "# Program to add two matrices\n",
        "# using numpy\n",
        "\n",
        "import numpy as np\n",
        "\n",
        "X = [[1,2,3],\n",
        "\t[4 ,5,6],\n",
        "\t[7 ,8,9]]\n",
        "\n",
        "Y = [[9,8,7],\n",
        "\t[6,5,4],\n",
        "\t[3,2,1]]\n",
        "\n",
        "result = np.array(X) + np.array(Y)\n",
        "\n",
        "print(result.tolist())\n"
      ],
      "metadata": {
        "colab": {
          "base_uri": "https://localhost:8080/"
        },
        "id": "Zin7mqLxr1rb",
        "outputId": "6a49ba3c-02cd-42d1-c9c4-81d616bbcbfe"
      },
      "execution_count": 19,
      "outputs": [
        {
          "output_type": "stream",
          "name": "stdout",
          "text": [
            "[[10, 10, 10], [10, 10, 10], [10, 10, 10]]\n"
          ]
        }
      ]
    },
    {
      "cell_type": "markdown",
      "source": [
        "# Python program to multiply two matrices\n"
      ],
      "metadata": {
        "id": "QfH1cLrhkjia"
      }
    },
    {
      "cell_type": "markdown",
      "source": [
        "Using Simple Nested Loops"
      ],
      "metadata": {
        "id": "YcEKu4QNkqkJ"
      }
    },
    {
      "cell_type": "code",
      "source": [
        "# take a 3x3 matrix\n",
        "A = [[12, 7, 3],\n",
        "\t[4, 5, 6],\n",
        "\t[7, 8, 9]]\n",
        "\n",
        "# take a 3x4 matrix\n",
        "B = [[5, 8, 1, 2],\n",
        "\t[6, 7, 3, 0],\n",
        "\t[4, 5, 9, 1]]\n",
        "\n",
        "result = [[0, 0, 0, 0],\n",
        "\t\t[0, 0, 0, 0],\n",
        "\t\t[0, 0, 0, 0]]\n",
        "\n",
        "# iterating by row of A\n",
        "for i in range(len(A)):\n",
        "\n",
        "\t# iterating by column by B\n",
        "\tfor j in range(len(B[0])):\n",
        "\n",
        "\t\t# iterating by rows of B\n",
        "\t\tfor k in range(len(B)):\n",
        "\t\t\tresult[i][j] += A[i][k] * B[k][j]\n",
        "\n",
        "for r in result:\n",
        "\tprint(r)\n"
      ],
      "metadata": {
        "colab": {
          "base_uri": "https://localhost:8080/"
        },
        "id": "TDLaAJUJkk6C",
        "outputId": "380a159c-781c-4afc-b29d-b133b5b86784"
      },
      "execution_count": 61,
      "outputs": [
        {
          "output_type": "stream",
          "name": "stdout",
          "text": [
            "[114, 160, 60, 27]\n",
            "[74, 97, 73, 14]\n",
            "[119, 157, 112, 23]\n"
          ]
        }
      ]
    },
    {
      "cell_type": "markdown",
      "source": [
        "Program to multiply two matrices using list comprehension"
      ],
      "metadata": {
        "id": "pOfPcLCzluYy"
      }
    },
    {
      "cell_type": "code",
      "source": [
        "# take a 3x3 matrix\n",
        "A = [[12, 7, 3],\n",
        "\t[4, 5, 6],\n",
        "\t[7, 8, 9]]\n",
        "\n",
        "# take a 3x4 matrix\n",
        "B = [[5, 8, 1, 2],\n",
        "\t[6, 7, 3, 0],\n",
        "\t[4, 5, 9, 1]]\n",
        "\n",
        "# result will be 3x4\n",
        "result = [[sum(a * b for a, b in zip(A_row, B_col))\n",
        "\t\t\t\t\t\tfor B_col in zip(*B)]\n",
        "\t\t\t\t\t\t\t\tfor A_row in A]\n",
        "\n",
        "for r in result:\n",
        "\tprint(r)"
      ],
      "metadata": {
        "colab": {
          "base_uri": "https://localhost:8080/"
        },
        "id": "K-oKGnuqkpto",
        "outputId": "bccf07bd-be17-4e2d-abc3-c9602060b5e4"
      },
      "execution_count": 62,
      "outputs": [
        {
          "output_type": "stream",
          "name": "stdout",
          "text": [
            "[114, 160, 60, 27]\n",
            "[74, 97, 73, 14]\n",
            "[119, 157, 112, 23]\n"
          ]
        }
      ]
    },
    {
      "cell_type": "markdown",
      "source": [
        "Matrix Multiplication (Vectorized implementation)."
      ],
      "metadata": {
        "id": "GTXCb84ymAzW"
      }
    },
    {
      "cell_type": "code",
      "source": [
        "import numpy as np\n",
        "# take a 3x3 matrix\n",
        "A = [[12, 7, 3],\n",
        "\t[4, 5, 6],\n",
        "\t[7, 8, 9]]\n",
        "\n",
        "# take a 3x4 matrix\n",
        "B = [[5, 8, 1, 2],\n",
        "\t[6, 7, 3, 0],\n",
        "\t[4, 5, 9, 1]]\n",
        "\n",
        "result = np.dot(A,B)\n",
        "\n",
        "for r in result:\n",
        "\tprint(r)"
      ],
      "metadata": {
        "colab": {
          "base_uri": "https://localhost:8080/"
        },
        "id": "mo_wVwPkmBgh",
        "outputId": "36b29327-ae4d-4365-8429-76e2a24f9ba3"
      },
      "execution_count": 65,
      "outputs": [
        {
          "output_type": "stream",
          "name": "stdout",
          "text": [
            "[114 160  60  27]\n",
            "[74 97 73 14]\n",
            "[119 157 112  23]\n"
          ]
        }
      ]
    },
    {
      "cell_type": "markdown",
      "source": [
        "Adding and Subtracting Matrices in Python\n"
      ],
      "metadata": {
        "id": "lHPOMvbdqibY"
      }
    },
    {
      "cell_type": "code",
      "source": [
        "A = [[1,2],[3,4]]\n",
        "B = [[4,5],[6,7]]\n",
        "\n",
        "add = [[0,0],[0,0]]\n",
        "sub = np.zeros(4).reshape(2,2)\n",
        "for i in range(len(A)):\n",
        "  for j in range(len(A[i])):\n",
        "    add[i][j] = A[i][j] + B[i][j]\n",
        "    sub[i][j] = A[i][j] - B[i][j]\n",
        "print(add,sub)"
      ],
      "metadata": {
        "colab": {
          "base_uri": "https://localhost:8080/"
        },
        "id": "_Eie4gXwqtD3",
        "outputId": "147e3309-891e-486d-da25-0d0cc38d271d"
      },
      "execution_count": 79,
      "outputs": [
        {
          "output_type": "stream",
          "name": "stdout",
          "text": [
            "[[5, 7], [9, 11]] [[-3. -3.]\n",
            " [-3. -3.]]\n"
          ]
        }
      ]
    },
    {
      "cell_type": "markdown",
      "source": [
        "# Python | Matrix Product\n"
      ],
      "metadata": {
        "id": "9H5Oly6Mnaz2"
      }
    },
    {
      "cell_type": "code",
      "source": [
        "# initializing list\n",
        "test_list = [[1, 4, 5], [7, 3], [4], [46, 7, 3]]\n",
        "\n",
        "# printing original list\n",
        "print(\"The original list : \" + str(test_list))\n",
        "\n",
        "x = []\n",
        "for i in test_list:\n",
        "\tx.extend(i)\n",
        "print(x)\n",
        "res = 1\n",
        "for j in x:\n",
        "\tres *= j\n",
        "\n",
        "\n",
        "# print result\n",
        "print(\"The total element product in lists is : \" + str(res))"
      ],
      "metadata": {
        "colab": {
          "base_uri": "https://localhost:8080/"
        },
        "id": "7kLcorXEnccN",
        "outputId": "596e2d3f-4a98-4af0-f62c-1db14520e1c0"
      },
      "execution_count": 67,
      "outputs": [
        {
          "output_type": "stream",
          "name": "stdout",
          "text": [
            "The original list : [[1, 4, 5], [7, 3], [4], [46, 7, 3]]\n",
            "[1, 4, 5, 7, 3, 4, 46, 7, 3]\n",
            "The total element product in lists is : 1622880\n"
          ]
        }
      ]
    },
    {
      "cell_type": "markdown",
      "source": [
        "Transpose of a matrix using numpy"
      ],
      "metadata": {
        "id": "j86psbii1H_Y"
      }
    },
    {
      "cell_type": "code",
      "source": [
        "import numpy\n",
        "matrix=[[1,2,3],[4,5,6]]\n",
        "print(matrix)\n",
        "print(\"\\n\")\n",
        "print(numpy.transpose(matrix))"
      ],
      "metadata": {
        "colab": {
          "base_uri": "https://localhost:8080/"
        },
        "id": "do5DRkyn1G7L",
        "outputId": "37c60db5-e1c8-47fc-a766-5d8b97511094"
      },
      "execution_count": 81,
      "outputs": [
        {
          "output_type": "stream",
          "name": "stdout",
          "text": [
            "[[1, 2, 3], [4, 5, 6]]\n",
            "\n",
            "\n",
            "[[1 4]\n",
            " [2 5]\n",
            " [3 6]]\n"
          ]
        }
      ]
    },
    {
      "cell_type": "markdown",
      "source": [
        "# Dictionary"
      ],
      "metadata": {
        "id": "hrQcSGS3dWNR"
      }
    },
    {
      "cell_type": "markdown",
      "source": [
        "Python – Extract Unique values dictionary values\n"
      ],
      "metadata": {
        "id": "qenZ66x4dbCE"
      }
    },
    {
      "cell_type": "code",
      "source": [
        "test_dict = {'gfg' : [5, 6, 7, 8],\n",
        "            'is' : [10, 11, 7, 5],\n",
        "            'best' : [6, 12, 10, 8],\n",
        "            'for' : [1, 2, 5]}\n",
        "\n",
        "# printing original dictionary\n",
        "print(\"The original dictionary is : \" + str(test_dict))\n",
        "\n",
        "# Extract Unique values dictionary values\n",
        "x=[]\n",
        "for i in test_dict.keys():\n",
        "    x.extend(test_dict[i])\n",
        "x=list(set(x))\n",
        "x.sort()\n",
        "# printing result\n",
        "print(\"The unique values list is : \" + str(x))"
      ],
      "metadata": {
        "colab": {
          "base_uri": "https://localhost:8080/"
        },
        "id": "6lqGTSYtdaqT",
        "outputId": "c83cb986-2dd4-43bc-af4a-f3f12158df27"
      },
      "execution_count": 7,
      "outputs": [
        {
          "output_type": "stream",
          "name": "stdout",
          "text": [
            "The original dictionary is : {'gfg': [5, 6, 7, 8], 'is': [10, 11, 7, 5], 'best': [6, 12, 10, 8], 'for': [1, 2, 5]}\n",
            "The unique values list is : [1, 2, 5, 6, 7, 8, 10, 11, 12]\n"
          ]
        }
      ]
    },
    {
      "cell_type": "markdown",
      "source": [
        "# Numpy questions"
      ],
      "metadata": {
        "id": "PRkt_FWsn-L1"
      }
    },
    {
      "cell_type": "code",
      "source": [
        "import numpy as np"
      ],
      "metadata": {
        "id": "K6UQ0uAQCqas"
      },
      "execution_count": 20,
      "outputs": []
    },
    {
      "cell_type": "code",
      "source": [
        "print(np.__version__)\n",
        "np.show_config()"
      ],
      "metadata": {
        "colab": {
          "base_uri": "https://localhost:8080/"
        },
        "id": "k7TPfKUFoGP5",
        "outputId": "06229a44-f953-4d25-85e3-f8203d492484"
      },
      "execution_count": 21,
      "outputs": [
        {
          "output_type": "stream",
          "name": "stdout",
          "text": [
            "1.22.4\n",
            "openblas64__info:\n",
            "    libraries = ['openblas64_', 'openblas64_']\n",
            "    library_dirs = ['/usr/local/lib']\n",
            "    language = c\n",
            "    define_macros = [('HAVE_CBLAS', None), ('BLAS_SYMBOL_SUFFIX', '64_'), ('HAVE_BLAS_ILP64', None)]\n",
            "    runtime_library_dirs = ['/usr/local/lib']\n",
            "blas_ilp64_opt_info:\n",
            "    libraries = ['openblas64_', 'openblas64_']\n",
            "    library_dirs = ['/usr/local/lib']\n",
            "    language = c\n",
            "    define_macros = [('HAVE_CBLAS', None), ('BLAS_SYMBOL_SUFFIX', '64_'), ('HAVE_BLAS_ILP64', None)]\n",
            "    runtime_library_dirs = ['/usr/local/lib']\n",
            "openblas64__lapack_info:\n",
            "    libraries = ['openblas64_', 'openblas64_']\n",
            "    library_dirs = ['/usr/local/lib']\n",
            "    language = c\n",
            "    define_macros = [('HAVE_CBLAS', None), ('BLAS_SYMBOL_SUFFIX', '64_'), ('HAVE_BLAS_ILP64', None), ('HAVE_LAPACKE', None)]\n",
            "    runtime_library_dirs = ['/usr/local/lib']\n",
            "lapack_ilp64_opt_info:\n",
            "    libraries = ['openblas64_', 'openblas64_']\n",
            "    library_dirs = ['/usr/local/lib']\n",
            "    language = c\n",
            "    define_macros = [('HAVE_CBLAS', None), ('BLAS_SYMBOL_SUFFIX', '64_'), ('HAVE_BLAS_ILP64', None), ('HAVE_LAPACKE', None)]\n",
            "    runtime_library_dirs = ['/usr/local/lib']\n",
            "Supported SIMD extensions in this NumPy install:\n",
            "    baseline = SSE,SSE2,SSE3\n",
            "    found = SSSE3,SSE41,POPCNT,SSE42,AVX,F16C,FMA3,AVX2\n",
            "    not found = AVX512F,AVX512CD,AVX512_KNL,AVX512_KNM,AVX512_SKX,AVX512_CLX,AVX512_CNL,AVX512_ICL\n"
          ]
        }
      ]
    },
    {
      "cell_type": "code",
      "source": [
        "Z = np.zeros(10)\n",
        "print(Z)"
      ],
      "metadata": {
        "colab": {
          "base_uri": "https://localhost:8080/"
        },
        "id": "9oT6ClOjoJTp",
        "outputId": "0fbeaf12-dd82-4d94-eed1-41c712f1cdae"
      },
      "execution_count": 22,
      "outputs": [
        {
          "output_type": "stream",
          "name": "stdout",
          "text": [
            "[0. 0. 0. 0. 0. 0. 0. 0. 0. 0.]\n"
          ]
        }
      ]
    },
    {
      "cell_type": "code",
      "source": [
        "Z = np.zeros((10,10))\n",
        "print(\"%d bytes\" % (Z.size * Z.itemsize))"
      ],
      "metadata": {
        "colab": {
          "base_uri": "https://localhost:8080/"
        },
        "id": "JN19kJk2oL10",
        "outputId": "e3dd4276-cd69-4d6e-acba-5bb21eeb7791"
      },
      "execution_count": 23,
      "outputs": [
        {
          "output_type": "stream",
          "name": "stdout",
          "text": [
            "800 bytes\n"
          ]
        }
      ]
    },
    {
      "cell_type": "code",
      "source": [
        "Z = np.zeros(10)\n",
        "Z[4] = 1\n",
        "print(Z)"
      ],
      "metadata": {
        "colab": {
          "base_uri": "https://localhost:8080/"
        },
        "id": "mcAghlP-oQjP",
        "outputId": "5d1a6ac5-2356-421f-97dc-f1cfda24002b"
      },
      "execution_count": 24,
      "outputs": [
        {
          "output_type": "stream",
          "name": "stdout",
          "text": [
            "[0. 0. 0. 0. 1. 0. 0. 0. 0. 0.]\n"
          ]
        }
      ]
    },
    {
      "cell_type": "code",
      "source": [
        "Z = np.arange(10,50)\n",
        "print(Z)"
      ],
      "metadata": {
        "colab": {
          "base_uri": "https://localhost:8080/"
        },
        "id": "iTAdxGkVoeY7",
        "outputId": "f60b9d37-16b5-48d9-e11c-2208f9c7be27"
      },
      "execution_count": 25,
      "outputs": [
        {
          "output_type": "stream",
          "name": "stdout",
          "text": [
            "[10 11 12 13 14 15 16 17 18 19 20 21 22 23 24 25 26 27 28 29 30 31 32 33\n",
            " 34 35 36 37 38 39 40 41 42 43 44 45 46 47 48 49]\n"
          ]
        }
      ]
    },
    {
      "cell_type": "code",
      "source": [
        "Z = np.arange(50)\n",
        "Z = Z[::-1]\n",
        "print(Z)"
      ],
      "metadata": {
        "colab": {
          "base_uri": "https://localhost:8080/"
        },
        "id": "hujJY4d2opW9",
        "outputId": "003082db-471a-4c46-efd7-e238b610a4ed"
      },
      "execution_count": 26,
      "outputs": [
        {
          "output_type": "stream",
          "name": "stdout",
          "text": [
            "[49 48 47 46 45 44 43 42 41 40 39 38 37 36 35 34 33 32 31 30 29 28 27 26\n",
            " 25 24 23 22 21 20 19 18 17 16 15 14 13 12 11 10  9  8  7  6  5  4  3  2\n",
            "  1  0]\n"
          ]
        }
      ]
    },
    {
      "cell_type": "code",
      "source": [
        "Z = np.arange(9).reshape(3, 3)\n",
        "print(Z)"
      ],
      "metadata": {
        "colab": {
          "base_uri": "https://localhost:8080/"
        },
        "id": "1nDbE85Xou9W",
        "outputId": "ba591d37-b319-46fb-af0a-08b891d15aa1"
      },
      "execution_count": 27,
      "outputs": [
        {
          "output_type": "stream",
          "name": "stdout",
          "text": [
            "[[0 1 2]\n",
            " [3 4 5]\n",
            " [6 7 8]]\n"
          ]
        }
      ]
    },
    {
      "cell_type": "code",
      "source": [
        "nz = np.nonzero([1,2,0,0,4,0])\n",
        "print(nz)"
      ],
      "metadata": {
        "colab": {
          "base_uri": "https://localhost:8080/"
        },
        "id": "omWxub81oysl",
        "outputId": "85c0746b-db2a-4ec9-d542-d7742e00e7fb"
      },
      "execution_count": 28,
      "outputs": [
        {
          "output_type": "stream",
          "name": "stdout",
          "text": [
            "(array([0, 1, 4]),)\n"
          ]
        }
      ]
    },
    {
      "cell_type": "code",
      "source": [
        "Z = np.eye(3)\n",
        "print(Z)"
      ],
      "metadata": {
        "colab": {
          "base_uri": "https://localhost:8080/"
        },
        "id": "zTJfrrzCo7Gz",
        "outputId": "0c7454ee-f0d0-4588-a39b-3b122d729286"
      },
      "execution_count": 29,
      "outputs": [
        {
          "output_type": "stream",
          "name": "stdout",
          "text": [
            "[[1. 0. 0.]\n",
            " [0. 1. 0.]\n",
            " [0. 0. 1.]]\n"
          ]
        }
      ]
    },
    {
      "cell_type": "code",
      "source": [
        "Z = np.random.random((3,3,3))\n",
        "print(Z)"
      ],
      "metadata": {
        "colab": {
          "base_uri": "https://localhost:8080/"
        },
        "id": "_mzArYbXo-yZ",
        "outputId": "0a48eb78-97af-4891-dc62-17bd620a0068"
      },
      "execution_count": 30,
      "outputs": [
        {
          "output_type": "stream",
          "name": "stdout",
          "text": [
            "[[[0.75524154 0.13939138 0.69447697]\n",
            "  [0.12270816 0.59128865 0.91517936]\n",
            "  [0.771564   0.12049184 0.75303816]]\n",
            "\n",
            " [[0.52445648 0.42779603 0.75489382]\n",
            "  [0.64168712 0.9042983  0.26749174]\n",
            "  [0.06164489 0.54106931 0.53412653]]\n",
            "\n",
            " [[0.86935071 0.3938755  0.07739678]\n",
            "  [0.50637436 0.30930517 0.34121374]\n",
            "  [0.64323715 0.53428655 0.3392879 ]]]\n"
          ]
        }
      ]
    },
    {
      "cell_type": "code",
      "source": [
        "Z = np.random.random((10,10))\n",
        "print(Z)\n",
        "Zmin, Zmax = Z.min(), Z.max()\n",
        "print(Zmin, Zmax)"
      ],
      "metadata": {
        "colab": {
          "base_uri": "https://localhost:8080/"
        },
        "id": "G4PxiFWSpLa6",
        "outputId": "28076a94-2359-4685-ed7d-7fba2e8fcaeb"
      },
      "execution_count": 31,
      "outputs": [
        {
          "output_type": "stream",
          "name": "stdout",
          "text": [
            "[[0.08178953 0.65548053 0.66200394 0.47972098 0.36293421 0.02223252\n",
            "  0.8185775  0.2220571  0.08227107 0.53451549]\n",
            " [0.40898408 0.16320837 0.95043492 0.29238852 0.74598422 0.0579516\n",
            "  0.65626188 0.95303444 0.42409526 0.68758737]\n",
            " [0.63606417 0.06317519 0.78760377 0.10723052 0.15279695 0.515227\n",
            "  0.17849455 0.9487469  0.20377559 0.46204368]\n",
            " [0.11014554 0.60424283 0.44038611 0.18083257 0.91645919 0.4085292\n",
            "  0.22249692 0.40789408 0.41181842 0.82643102]\n",
            " [0.0624076  0.4512405  0.83310909 0.78562625 0.60618685 0.25005934\n",
            "  0.05152697 0.08118621 0.4043512  0.44908414]\n",
            " [0.70341192 0.63331639 0.61434229 0.78238274 0.83645928 0.58120348\n",
            "  0.6073906  0.9860051  0.39065791 0.33642081]\n",
            " [0.71371969 0.55811764 0.3463721  0.21727328 0.69962165 0.29018413\n",
            "  0.277526   0.88464896 0.85759581 0.79313421]\n",
            " [0.2499455  0.75072831 0.62739733 0.66423093 0.42910346 0.89203608\n",
            "  0.69435382 0.18605141 0.951977   0.15624301]\n",
            " [0.74671947 0.54649008 0.91187637 0.34224519 0.21054338 0.60689528\n",
            "  0.12678694 0.63898411 0.07267938 0.45386144]\n",
            " [0.95019739 0.58191667 0.74481336 0.1115321  0.11926168 0.44464563\n",
            "  0.13565509 0.77810238 0.5222653  0.14129169]]\n",
            "0.02223251766615353 0.9860050955355353\n"
          ]
        }
      ]
    },
    {
      "cell_type": "code",
      "source": [
        "Z = np.random.random(30)\n",
        "m = Z.mean()\n",
        "print(m)"
      ],
      "metadata": {
        "colab": {
          "base_uri": "https://localhost:8080/"
        },
        "id": "xv5TjAqqpMpS",
        "outputId": "0ca3dfaa-42de-4eb1-cbf4-b1609758412f"
      },
      "execution_count": 32,
      "outputs": [
        {
          "output_type": "stream",
          "name": "stdout",
          "text": [
            "0.5252222537769452\n"
          ]
        }
      ]
    },
    {
      "cell_type": "code",
      "source": [
        "Z = np.linspace(0,1,11,endpoint=False)[1:]\n",
        "print(Z)"
      ],
      "metadata": {
        "colab": {
          "base_uri": "https://localhost:8080/"
        },
        "id": "O2M-b7aMpWWC",
        "outputId": "64edb843-50fb-477d-e32c-291b151765ed"
      },
      "execution_count": 33,
      "outputs": [
        {
          "output_type": "stream",
          "name": "stdout",
          "text": [
            "[0.09090909 0.18181818 0.27272727 0.36363636 0.45454545 0.54545455\n",
            " 0.63636364 0.72727273 0.81818182 0.90909091]\n"
          ]
        }
      ]
    },
    {
      "cell_type": "code",
      "source": [
        "A = np.random.randint(0,2,5)\n",
        "B = np.random.randint(0,2,5)\n",
        "\n",
        "# Assuming identical shape of the arrays and a tolerance for the comparison of values\n",
        "equal = np.allclose(A,B)\n",
        "print(equal,A,B)"
      ],
      "metadata": {
        "colab": {
          "base_uri": "https://localhost:8080/"
        },
        "id": "2rcnJCkDqHkB",
        "outputId": "93a17d21-6d2c-46b9-f530-91e3ece6d697"
      },
      "execution_count": 34,
      "outputs": [
        {
          "output_type": "stream",
          "name": "stdout",
          "text": [
            "False [0 1 0 1 0] [0 1 1 0 1]\n"
          ]
        }
      ]
    },
    {
      "cell_type": "code",
      "source": [
        "Z = np.zeros(10)\n",
        "Z.flags.writeable = False\n",
        "Z[0] = 1"
      ],
      "metadata": {
        "colab": {
          "base_uri": "https://localhost:8080/",
          "height": 200
        },
        "id": "T37aNUNVqej1",
        "outputId": "fab1f9c5-5eff-4617-c33e-57caf912fedf"
      },
      "execution_count": 35,
      "outputs": [
        {
          "output_type": "error",
          "ename": "ValueError",
          "evalue": "ignored",
          "traceback": [
            "\u001b[0;31m---------------------------------------------------------------------------\u001b[0m",
            "\u001b[0;31mValueError\u001b[0m                                Traceback (most recent call last)",
            "\u001b[0;32m<ipython-input-35-dcc5e7f145b5>\u001b[0m in \u001b[0;36m<cell line: 3>\u001b[0;34m()\u001b[0m\n\u001b[1;32m      1\u001b[0m \u001b[0mZ\u001b[0m \u001b[0;34m=\u001b[0m \u001b[0mnp\u001b[0m\u001b[0;34m.\u001b[0m\u001b[0mzeros\u001b[0m\u001b[0;34m(\u001b[0m\u001b[0;36m10\u001b[0m\u001b[0;34m)\u001b[0m\u001b[0;34m\u001b[0m\u001b[0;34m\u001b[0m\u001b[0m\n\u001b[1;32m      2\u001b[0m \u001b[0mZ\u001b[0m\u001b[0;34m.\u001b[0m\u001b[0mflags\u001b[0m\u001b[0;34m.\u001b[0m\u001b[0mwriteable\u001b[0m \u001b[0;34m=\u001b[0m \u001b[0;32mFalse\u001b[0m\u001b[0;34m\u001b[0m\u001b[0;34m\u001b[0m\u001b[0m\n\u001b[0;32m----> 3\u001b[0;31m \u001b[0mZ\u001b[0m\u001b[0;34m[\u001b[0m\u001b[0;36m0\u001b[0m\u001b[0;34m]\u001b[0m \u001b[0;34m=\u001b[0m \u001b[0;36m1\u001b[0m\u001b[0;34m\u001b[0m\u001b[0;34m\u001b[0m\u001b[0m\n\u001b[0m",
            "\u001b[0;31mValueError\u001b[0m: assignment destination is read-only"
          ]
        }
      ]
    },
    {
      "cell_type": "code",
      "source": [
        "import scipy\n",
        "import scipy.spatial\n",
        "\n",
        "Z = np.random.random((10,2))\n",
        "D = scipy.spatial.distance.cdist(Z,Z)\n",
        "print(D)"
      ],
      "metadata": {
        "id": "PPJOyR5EqjDV",
        "colab": {
          "base_uri": "https://localhost:8080/"
        },
        "outputId": "ecc34f69-953d-46c9-8aed-3795fef86f9f"
      },
      "execution_count": 36,
      "outputs": [
        {
          "output_type": "stream",
          "name": "stdout",
          "text": [
            "[[0.         0.27607732 0.26243786 0.60965909 0.10631473 0.34033105\n",
            "  0.57795083 0.49128831 0.51228794 0.33344236]\n",
            " [0.27607732 0.         0.49928453 0.59714942 0.27720099 0.58674923\n",
            "  0.60960199 0.65404926 0.78145894 0.52150843]\n",
            " [0.26243786 0.49928453 0.         0.84677189 0.35441596 0.39170346\n",
            "  0.79911021 0.63140542 0.3068271  0.47989023]\n",
            " [0.60965909 0.59714942 0.84677189 0.         0.50388552 0.58696726\n",
            "  0.0963106  0.39013273 0.98078061 0.43119055]\n",
            " [0.10631473 0.27720099 0.35441596 0.50388552 0.         0.30996214\n",
            "  0.4718833  0.4080776  0.56760176 0.25784859]\n",
            " [0.34033105 0.58674923 0.39170346 0.58696726 0.30996214 0.\n",
            "  0.50939975 0.26075215 0.40332325 0.15607165]\n",
            " [0.57795083 0.60960199 0.79911021 0.0963106  0.4718833  0.50939975\n",
            "  0.         0.29702169 0.90916441 0.35608964]\n",
            " [0.49128831 0.65404926 0.63140542 0.39013273 0.4080776  0.26075215\n",
            "  0.29702169 0.         0.65824077 0.1596365 ]\n",
            " [0.51228794 0.78145894 0.3068271  0.98078061 0.56760176 0.40332325\n",
            "  0.90916441 0.65824077 0.         0.55310364]\n",
            " [0.33344236 0.52150843 0.47989023 0.43119055 0.25784859 0.15607165\n",
            "  0.35608964 0.1596365  0.55310364 0.        ]]\n"
          ]
        }
      ]
    },
    {
      "cell_type": "code",
      "source": [
        "from io import StringIO\n",
        "\n",
        "# Fake file\n",
        "s = StringIO('''1, 2, 3, 4, 5\n",
        "\n",
        "                6,  ,  , 7, 8\n",
        "\n",
        "                 ,  , 9,10,11\n",
        "''')\n",
        "Z = np.genfromtxt(s, delimiter=\",\", dtype=int)\n",
        "print(Z)"
      ],
      "metadata": {
        "colab": {
          "base_uri": "https://localhost:8080/"
        },
        "id": "hNVmpB_VKab9",
        "outputId": "46787a1e-b19a-4753-8c3c-6d7d148ffef1"
      },
      "execution_count": 38,
      "outputs": [
        {
          "output_type": "stream",
          "name": "stdout",
          "text": [
            "[[ 1  2  3  4  5]\n",
            " [ 6 -1 -1  7  8]\n",
            " [-1 -1  9 10 11]]\n"
          ]
        }
      ]
    },
    {
      "cell_type": "code",
      "source": [
        "Z = np.arange(9).reshape(3,3)\n",
        "for index, value in np.ndenumerate(Z):\n",
        "    print(index, value)\n",
        "for index in np.ndindex(Z.shape):\n",
        "    print(index, Z[index])"
      ],
      "metadata": {
        "colab": {
          "base_uri": "https://localhost:8080/"
        },
        "id": "l_7FKIpDKkcu",
        "outputId": "91650106-d63d-4140-f8c5-3b7d91c60b62"
      },
      "execution_count": 41,
      "outputs": [
        {
          "output_type": "stream",
          "name": "stdout",
          "text": [
            "(0, 0) 0\n",
            "(0, 1) 1\n",
            "(0, 2) 2\n",
            "(1, 0) 3\n",
            "(1, 1) 4\n",
            "(1, 2) 5\n",
            "(2, 0) 6\n",
            "(2, 1) 7\n",
            "(2, 2) 8\n",
            "(0, 0) 0\n",
            "(0, 1) 1\n",
            "(0, 2) 2\n",
            "(1, 0) 3\n",
            "(1, 1) 4\n",
            "(1, 2) 5\n",
            "(2, 0) 6\n",
            "(2, 1) 7\n",
            "(2, 2) 8\n"
          ]
        }
      ]
    },
    {
      "cell_type": "code",
      "source": [
        "X = [1,2,3,4,5,6]\n",
        "I = [1,3,9,3,4,1]\n",
        "F = np.bincount(I,X)\n",
        "print(F)"
      ],
      "metadata": {
        "colab": {
          "base_uri": "https://localhost:8080/"
        },
        "id": "Osqgby3mMVfw",
        "outputId": "d729a324-7d71-4dcc-fad7-2f7e696fa4b7"
      },
      "execution_count": 43,
      "outputs": [
        {
          "output_type": "stream",
          "name": "stdout",
          "text": [
            "[0. 7. 0. 6. 5. 0. 0. 0. 0. 3.]\n"
          ]
        }
      ]
    },
    {
      "cell_type": "markdown",
      "source": [
        "70. Consider the vector [1, 2, 3, 4, 5], how to build a new vector with 3 consecutive zeros interleaved between each value? (★★★)"
      ],
      "metadata": {
        "id": "IoohDRc1TM7F"
      }
    },
    {
      "cell_type": "code",
      "source": [
        "Z = np.array([1,2,3,4,5])\n",
        "nz = 3\n",
        "Z0 = np.zeros(len(Z) + (len(Z)-1)*(nz))\n",
        "Z0[::nz+1] = Z\n",
        "print(Z0)"
      ],
      "metadata": {
        "colab": {
          "base_uri": "https://localhost:8080/"
        },
        "id": "DoGGK6WBRwpA",
        "outputId": "39225289-8bd8-4232-83f6-562c3b6f495b"
      },
      "execution_count": 47,
      "outputs": [
        {
          "output_type": "stream",
          "name": "stdout",
          "text": [
            "[1. 0. 0. 0. 2. 0. 0. 0. 3. 0. 0. 0. 4. 0. 0. 0. 5.]\n"
          ]
        }
      ]
    },
    {
      "cell_type": "markdown",
      "source": [
        "71. Consider an array of dimension (5,5,3), how to mulitply it by an array with dimensions (5,5)? (★★★)\n"
      ],
      "metadata": {
        "id": "qReGaimgTLcw"
      }
    },
    {
      "cell_type": "code",
      "source": [
        "A = np.ones((5,5,3))\n",
        "B = 2*np.ones((5,5))\n",
        "print(A * B[:,:,None])"
      ],
      "metadata": {
        "colab": {
          "base_uri": "https://localhost:8080/"
        },
        "id": "Cy2CmiRvRwdr",
        "outputId": "c40d90db-cbdd-4e9a-c385-125afda42ea3"
      },
      "execution_count": 48,
      "outputs": [
        {
          "output_type": "stream",
          "name": "stdout",
          "text": [
            "[[[2. 2. 2.]\n",
            "  [2. 2. 2.]\n",
            "  [2. 2. 2.]\n",
            "  [2. 2. 2.]\n",
            "  [2. 2. 2.]]\n",
            "\n",
            " [[2. 2. 2.]\n",
            "  [2. 2. 2.]\n",
            "  [2. 2. 2.]\n",
            "  [2. 2. 2.]\n",
            "  [2. 2. 2.]]\n",
            "\n",
            " [[2. 2. 2.]\n",
            "  [2. 2. 2.]\n",
            "  [2. 2. 2.]\n",
            "  [2. 2. 2.]\n",
            "  [2. 2. 2.]]\n",
            "\n",
            " [[2. 2. 2.]\n",
            "  [2. 2. 2.]\n",
            "  [2. 2. 2.]\n",
            "  [2. 2. 2.]\n",
            "  [2. 2. 2.]]\n",
            "\n",
            " [[2. 2. 2.]\n",
            "  [2. 2. 2.]\n",
            "  [2. 2. 2.]\n",
            "  [2. 2. 2.]\n",
            "  [2. 2. 2.]]]\n"
          ]
        }
      ]
    },
    {
      "cell_type": "markdown",
      "source": [
        "72. How to swap two rows of an array? (★★★)"
      ],
      "metadata": {
        "id": "6WKrai_FTYH5"
      }
    },
    {
      "cell_type": "code",
      "source": [
        "A = np.arange(25).reshape(5,5)\n",
        "A[[0,1]] = A[[1,0]]\n",
        "print(A)\n",
        "\n"
      ],
      "metadata": {
        "colab": {
          "base_uri": "https://localhost:8080/"
        },
        "id": "oDKLZyTtTU98",
        "outputId": "912fe265-54e7-4422-fbc6-bb07c947ff90"
      },
      "execution_count": 58,
      "outputs": [
        {
          "output_type": "stream",
          "name": "stdout",
          "text": [
            "[[ 5  6  7  8  9]\n",
            " [ 0  1  2  3  4]\n",
            " [10 11 12 13 14]\n",
            " [15 16 17 18 19]\n",
            " [20 21 22 23 24]]\n"
          ]
        }
      ]
    },
    {
      "cell_type": "code",
      "source": [
        "x = float(2.8)\n",
        "print(type(x))"
      ],
      "metadata": {
        "colab": {
          "base_uri": "https://localhost:8080/"
        },
        "id": "1sJ9FnAohg1I",
        "outputId": "95d60317-55c7-4703-b8e7-2d8c2ce5173d"
      },
      "execution_count": 60,
      "outputs": [
        {
          "output_type": "stream",
          "name": "stdout",
          "text": [
            "<class 'float'>\n"
          ]
        }
      ]
    }
  ]
}