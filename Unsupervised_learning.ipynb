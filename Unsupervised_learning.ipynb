{
  "nbformat": 4,
  "nbformat_minor": 0,
  "metadata": {
    "colab": {
      "provenance": []
    },
    "kernelspec": {
      "name": "python3",
      "display_name": "Python 3"
    },
    "language_info": {
      "name": "python"
    }
  },
  "cells": [
    {
      "cell_type": "code",
      "execution_count": 1,
      "metadata": {
        "id": "bsDazddubT75"
      },
      "outputs": [],
      "source": [
        "import os\n",
        "import shutil\n",
        "import numpy as np\n",
        "import pandas as pd\n",
        "import tensorflow as tf\n",
        "from tensorflow.keras.applications import VGG16\n",
        "from tensorflow.keras.preprocessing.image import ImageDataGenerator\n",
        "from sklearn.cluster import KMeans"
      ]
    },
    {
      "cell_type": "code",
      "source": [
        "input_folder = '/content/drive/MyDrive/PF Tasks/Unsupervised/Updated folder'\n",
        "output_folder = '/content/drive/MyDrive/PF Tasks/Unsupervised/Output'\n",
        "image_size = (224, 224)\n",
        "batch_size = 32\n",
        "num_clusters = 3"
      ],
      "metadata": {
        "id": "gMY1YB-tccwz"
      },
      "execution_count": 2,
      "outputs": []
    },
    {
      "cell_type": "code",
      "source": [
        "# Function for Clustering\n",
        "def cluster_images(input_folder, output_folder, num_clusters, image_size, batch_size):\n",
        "    # List all image files in the input folder\n",
        "    image_files = [file for file in os.listdir(input_folder) if file.endswith('.jpg')]\n",
        "\n",
        "    df = pd.DataFrame({'filename': image_files})\n",
        "\n",
        "    # Data augmentation and normalization\n",
        "    datagen = ImageDataGenerator(rescale=1.0 / 255.0)\n",
        "    image_generator = datagen.flow_from_dataframe(\n",
        "        dataframe=df,\n",
        "        x_col='filename',\n",
        "        y_col=None,\n",
        "        directory=input_folder,\n",
        "        target_size=image_size,\n",
        "        batch_size=batch_size,\n",
        "        class_mode=None,\n",
        "        shuffle=False\n",
        "    )\n",
        "\n",
        "    # Generate image embeddings using the base model\n",
        "    base_model = VGG16(weights='imagenet', include_top=False, input_shape=(*image_size, 3))\n",
        "    image_embeddings = base_model.predict(image_generator, steps=len(image_generator), verbose=1)\n",
        "    image_embeddings = image_embeddings.reshape(image_embeddings.shape[0], -1)\n",
        "\n",
        "    # K-MEANS clustering\n",
        "    kmeans = KMeans(n_clusters=num_clusters, random_state=42)\n",
        "    cluster_labels = kmeans.fit_predict(image_embeddings)\n",
        "\n",
        "    # Create output folders if they don't exist\n",
        "    os.makedirs(output_folder, exist_ok=True)\n",
        "    for i in range(num_clusters):\n",
        "        os.makedirs(os.path.join(output_folder, f'cluster_{i}'), exist_ok=True)\n",
        "\n",
        "    # Copy images to corresponding subfolders based on cluster assignments\n",
        "    for idx, image_filename in enumerate(image_files):\n",
        "        image_path = os.path.join(input_folder, image_filename)\n",
        "        cluster = cluster_labels[idx]\n",
        "        shutil.copy(image_path, os.path.join(output_folder, f'cluster_{cluster}', os.path.normpath(image_filename)))\n",
        "\n",
        "cluster_images(input_folder, output_folder, num_clusters, image_size, batch_size)"
      ],
      "metadata": {
        "colab": {
          "base_uri": "https://localhost:8080/"
        },
        "id": "4SnxNhUtbxFD",
        "outputId": "d369d1ef-29f8-4763-9eb1-21c9a89c43c3"
      },
      "execution_count": 3,
      "outputs": [
        {
          "output_type": "stream",
          "name": "stdout",
          "text": [
            "Found 625 validated image filenames.\n",
            "20/20 [==============================] - 250s 12s/step\n"
          ]
        },
        {
          "output_type": "stream",
          "name": "stderr",
          "text": [
            "/usr/local/lib/python3.10/dist-packages/sklearn/cluster/_kmeans.py:870: FutureWarning: The default value of `n_init` will change from 10 to 'auto' in 1.4. Set the value of `n_init` explicitly to suppress the warning\n",
            "  warnings.warn(\n"
          ]
        }
      ]
    }
  ]
}